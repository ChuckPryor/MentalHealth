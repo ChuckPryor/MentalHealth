{
 "cells": [
  {
   "cell_type": "markdown",
   "metadata": {},
   "source": [
    "# Imports"
   ]
  },
  {
   "cell_type": "code",
   "execution_count": 460,
   "metadata": {},
   "outputs": [],
   "source": [
    "import pandas as pd\n",
    "import numpy as np\n",
    "import matplotlib.pyplot as plt\n",
    "import seaborn as sns\n",
    "\n",
    "\n",
    "from sklearn.model_selection import train_test_split\n",
    "from sklearn.linear_model import LogisticRegression\n",
    "from sklearn.preprocessing import StandardScaler, OneHotEncoder, LabelEncoder\n",
    "from sklearn.model_selection import train_test_split, GridSearchCV\n",
    "from sklearn.tree import DecisionTreeClassifier\n",
    "from sklearn.ensemble import BaggingClassifier, RandomForestClassifier\n",
    "\n",
    "from sklearn.ensemble import ExtraTreesClassifier"
   ]
  },
  {
   "cell_type": "markdown",
   "metadata": {},
   "source": [
    "question - how often mental health related issues interfer with work?\n",
    "given different resources(eduction, benefits, counseling, workfrom home) companies provide "
   ]
  },
  {
   "cell_type": "markdown",
   "metadata": {},
   "source": [
    "Work interference - If you have a mental health condition, do you feel that it interferes with your work?\n",
    "\n",
    "remote work- Do you work remotely (outside of an office) at least 50% of the time?\n",
    "\n",
    "benefits - Does your employer provide mental health benefits?\n",
    "\n",
    "care options - Do you know the options for mental health care your employer provides?\n",
    "\n",
    "wellness program - Has your employer ever discussed mental health as part of an employee wellness program?\n",
    "\n",
    "seek help - Does your employer provide resources to learn more about mental health issues and how to seek help?\n",
    "\n",
    "annonimity - Is your anonymity protected if you choose to take advantage of mental health or substance abuse treatment\n",
    "\n",
    "leave - How easy is it for you to take medical leave for a mental health condition?\n",
    "\n",
    "mental health conseq - Do you think that discussing a mental health issue with your employer would have negative consequences?\n",
    "\n",
    "phys_health_consequence - Do you think that discussing a physical health issue with your employer would have negative consequences?\n",
    "\n",
    "treatment- Have you sought treatment for a mental health condition?\n"
   ]
  },
  {
   "cell_type": "markdown",
   "metadata": {},
   "source": [
    "# EDA"
   ]
  },
  {
   "cell_type": "code",
   "execution_count": 342,
   "metadata": {},
   "outputs": [
    {
     "data": {
      "text/html": [
       "<div>\n",
       "<style scoped>\n",
       "    .dataframe tbody tr th:only-of-type {\n",
       "        vertical-align: middle;\n",
       "    }\n",
       "\n",
       "    .dataframe tbody tr th {\n",
       "        vertical-align: top;\n",
       "    }\n",
       "\n",
       "    .dataframe thead th {\n",
       "        text-align: right;\n",
       "    }\n",
       "</style>\n",
       "<table border=\"1\" class=\"dataframe\">\n",
       "  <thead>\n",
       "    <tr style=\"text-align: right;\">\n",
       "      <th></th>\n",
       "      <th>Timestamp</th>\n",
       "      <th>Age</th>\n",
       "      <th>Gender</th>\n",
       "      <th>Country</th>\n",
       "      <th>state</th>\n",
       "      <th>self_employed</th>\n",
       "      <th>family_history</th>\n",
       "      <th>treatment</th>\n",
       "      <th>work_interfere</th>\n",
       "      <th>no_employees</th>\n",
       "      <th>...</th>\n",
       "      <th>leave</th>\n",
       "      <th>mental_health_consequence</th>\n",
       "      <th>phys_health_consequence</th>\n",
       "      <th>coworkers</th>\n",
       "      <th>supervisor</th>\n",
       "      <th>mental_health_interview</th>\n",
       "      <th>phys_health_interview</th>\n",
       "      <th>mental_vs_physical</th>\n",
       "      <th>obs_consequence</th>\n",
       "      <th>comments</th>\n",
       "    </tr>\n",
       "  </thead>\n",
       "  <tbody>\n",
       "    <tr>\n",
       "      <th>0</th>\n",
       "      <td>2014-08-27 11:29:31</td>\n",
       "      <td>37</td>\n",
       "      <td>Female</td>\n",
       "      <td>United States</td>\n",
       "      <td>IL</td>\n",
       "      <td>NaN</td>\n",
       "      <td>No</td>\n",
       "      <td>Yes</td>\n",
       "      <td>Often</td>\n",
       "      <td>6-25</td>\n",
       "      <td>...</td>\n",
       "      <td>Somewhat easy</td>\n",
       "      <td>No</td>\n",
       "      <td>No</td>\n",
       "      <td>Some of them</td>\n",
       "      <td>Yes</td>\n",
       "      <td>No</td>\n",
       "      <td>Maybe</td>\n",
       "      <td>Yes</td>\n",
       "      <td>No</td>\n",
       "      <td>NaN</td>\n",
       "    </tr>\n",
       "    <tr>\n",
       "      <th>1</th>\n",
       "      <td>2014-08-27 11:29:37</td>\n",
       "      <td>44</td>\n",
       "      <td>M</td>\n",
       "      <td>United States</td>\n",
       "      <td>IN</td>\n",
       "      <td>NaN</td>\n",
       "      <td>No</td>\n",
       "      <td>No</td>\n",
       "      <td>Rarely</td>\n",
       "      <td>More than 1000</td>\n",
       "      <td>...</td>\n",
       "      <td>Don't know</td>\n",
       "      <td>Maybe</td>\n",
       "      <td>No</td>\n",
       "      <td>No</td>\n",
       "      <td>No</td>\n",
       "      <td>No</td>\n",
       "      <td>No</td>\n",
       "      <td>Don't know</td>\n",
       "      <td>No</td>\n",
       "      <td>NaN</td>\n",
       "    </tr>\n",
       "  </tbody>\n",
       "</table>\n",
       "<p>2 rows × 27 columns</p>\n",
       "</div>"
      ],
      "text/plain": [
       "             Timestamp  Age  Gender        Country state self_employed  \\\n",
       "0  2014-08-27 11:29:31   37  Female  United States    IL           NaN   \n",
       "1  2014-08-27 11:29:37   44       M  United States    IN           NaN   \n",
       "\n",
       "  family_history treatment work_interfere    no_employees  ...          leave  \\\n",
       "0             No       Yes          Often            6-25  ...  Somewhat easy   \n",
       "1             No        No         Rarely  More than 1000  ...     Don't know   \n",
       "\n",
       "  mental_health_consequence phys_health_consequence     coworkers supervisor  \\\n",
       "0                        No                      No  Some of them        Yes   \n",
       "1                     Maybe                      No            No         No   \n",
       "\n",
       "  mental_health_interview phys_health_interview mental_vs_physical  \\\n",
       "0                      No                 Maybe                Yes   \n",
       "1                      No                    No         Don't know   \n",
       "\n",
       "  obs_consequence comments  \n",
       "0              No      NaN  \n",
       "1              No      NaN  \n",
       "\n",
       "[2 rows x 27 columns]"
      ]
     },
     "execution_count": 342,
     "metadata": {},
     "output_type": "execute_result"
    }
   ],
   "source": [
    "df = pd.read_csv('data.csv')\n",
    "df.head(2)"
   ]
  },
  {
   "cell_type": "code",
   "execution_count": 343,
   "metadata": {},
   "outputs": [],
   "source": [
    "#Dropping columns not necessary for data analysis\n",
    "df.drop(['Timestamp', 'comments', 'state', 'Country', 'phys_health_interview', 'phys_health_consequence'],\n",
    "        axis=1, inplace=True)\n",
    "\n",
    "\n",
    "#Dropping nan values and changing age column to intg.\n",
    "df.work_interfere.dropna(inplace=True)\n",
    "df.self_employed.dropna(inplace=True)\n",
    "df['Age'] = df['Age'].astype(int)\n"
   ]
  },
  {
   "cell_type": "code",
   "execution_count": 344,
   "metadata": {},
   "outputs": [],
   "source": [
    "# creating a uniform values for vairous unique gender values\n",
    "\n",
    "df['Gender'] = df['Gender'].replace({'f':'F'})\n",
    "df['Gender'] = df['Gender'].replace({'female':'F'})\n",
    "df['Gender'] = df['Gender'].replace({'Male':'M'})\n",
    "df['Gender'] = df['Gender'].replace({'male':'M'})\n",
    "df['Gender'] = df['Gender'].replace({'Female':'F'})\n",
    "df['Gender'] = df['Gender'].replace({'m':'M'})\n",
    "df['Gender'] = df['Gender'].replace({'Make':'M'})\n",
    "df['Gender'] = df['Gender'].replace({'Woman':'F'})\n",
    "df['Gender'] = df['Gender'].replace({'Man':'M'})\n",
    "df['Gender'] = df['Gender'].replace({'Femake':'F'})\n",
    "df['Gender'] = df['Gender'].replace({'Malr':'M'})\n",
    "df['Gender'] = df['Gender'].replace({'Mail':'M'})\n",
    "df['Gender'] = df['Gender'].replace({'femail':'F'})\n",
    "df['Gender'] = df['Gender'].replace({'Female ':'F'})\n",
    "df['Gender'] = df['Gender'].replace({'Female (trans)':'trans'})\n",
    "df['Gender'] = df['Gender'].replace({'Trans-female':'trans'})\n",
    "df['Gender'] = df['Gender'].replace({'Trans woman':'trans'})\n",
    "df['Gender'] = df['Gender'].replace({'Cis Male':'M'})\n",
    "df['Gender'] = df['Gender'].replace({'Cis Male':'M'})\n",
    "df['Gender'] = df['Gender'].replace({'cis-female/femme':'F'})\n",
    "df['Gender'] = df['Gender'].replace({'cis male':'M'})\n",
    "df['Gender'] = df['Gender'].replace({'Cis Man':'M'})\n",
    "df['Gender'] = df['Gender'].replace({'maile':'M'}) \n",
    "df['Gender'] = df['Gender'].replace({'Mal':'M'})\n",
    "df['Gender'] = df['Gender'].replace({'Cis Female':'F'})\n",
    "df['Gender'] = df['Gender'].replace({'woman':'F'})\n",
    "df['Gender'] = df['Gender'].replace({'Female (cis)':'F'})\n",
    "df['Gender'] = df['Gender'].replace({'Male ':'M'})\n",
    "df['Gender'] = df['Gender'].replace({'Male (CIS)':'M'})\n",
    "df['Gender'] = df['Gender'].replace({'msle':'M'})\n",
    "df['Gender'] = df['Gender'].replace({'queer/she/they':'queer'})\n",
    "df['Gender'] = df['Gender'].replace({'queer':'queer'})\n",
    "df['Gender'] = df['Gender'].replace({'Genderqueer':'queer'})\n",
    "df['Gender'] = df['Gender'].replace({'fluid':'queer'})\n",
    "df['Gender'] = df['Gender'].replace({'non-binary':'queer'})\n",
    "df['Gender'] = df['Gender'].replace({'Androgyne':'queer'})\n",
    "df['Gender'] = df['Gender'].replace({'male leaning androgynous':'queer'})\n",
    "df['Gender'] = df['Gender'].replace({'Agender':'queer'})\n",
    "df['Gender'] = df['Gender'].replace({'something kinda male?':'other'})\n",
    "df['Gender'] = df['Gender'].replace({'Nah':'other'})\n",
    "df['Gender'] = df['Gender'].replace({'Agender':'other'})\n",
    "df['Gender'] = df['Gender'].replace({'Neuter':'other'})\n",
    "df['Gender'] = df['Gender'].replace({'p':'other'})\n",
    "df['Gender'] = df['Gender'].replace({'Guy (-ish) ^_^':'other'})\n",
    "df['Gender'] = df['Gender'].replace({'Male-ish':'other'})\n",
    "df['Gender'] = df['Gender'].replace({'A little about you':'other'})\n",
    "df['Gender'] = df['Gender'].replace({'Enby':'other'})\n",
    "df['Gender'] = df['Gender'].replace({'All':'other'})\n",
    "df['Gender'] = df['Gender'].replace({'ostensibly male, unsure what that really means':'other'})"
   ]
  },
  {
   "cell_type": "code",
   "execution_count": 345,
   "metadata": {},
   "outputs": [],
   "source": [
    "#consoldating two employee sizes\n",
    "\n",
    "df['no_employees'] = df['no_employees'].replace({'1-5':'1-25'})\n",
    "df['no_employees'] = df['no_employees'].replace({'6-25':'1-25'})"
   ]
  },
  {
   "cell_type": "code",
   "execution_count": 346,
   "metadata": {},
   "outputs": [],
   "source": [
    "df.self_employed.dropna(axis=0, inplace=True)\n",
    "#df.self_employed.isna().sum()"
   ]
  },
  {
   "cell_type": "code",
   "execution_count": 347,
   "metadata": {},
   "outputs": [],
   "source": [
    "#Dropping all null values in df\n",
    "df.dropna(inplace=True)"
   ]
  },
  {
   "cell_type": "code",
   "execution_count": null,
   "metadata": {},
   "outputs": [],
   "source": []
  },
  {
   "cell_type": "code",
   "execution_count": 348,
   "metadata": {},
   "outputs": [],
   "source": [
    "#Replacing unique(incorrectly entered age values with 1 in order to change it with the mean after)\n",
    "\n",
    "for age in df.Age.values:\n",
    "    if age <= 17 or age >= 80:\n",
    "        df.Age.replace(age, 1, inplace=True)\n",
    "        "
   ]
  },
  {
   "cell_type": "code",
   "execution_count": 349,
   "metadata": {},
   "outputs": [],
   "source": [
    "#changing ones with the column mean and rounding it in to two \n",
    "df['Age'] = df['Age'].replace({1:df.Age.mean()})\n",
    "df.Age = df.Age.round(2)"
   ]
  },
  {
   "cell_type": "code",
   "execution_count": 350,
   "metadata": {},
   "outputs": [
    {
     "data": {
      "image/png": "[encoded data removed]",
      "text/plain": [
       "<Figure size 432x288 with 1 Axes>"
      ]
     },
     "metadata": {
      "needs_background": "light"
     },
     "output_type": "display_data"
    }
   ],
   "source": [
    "#Age distribution plot\n",
    "y = df.Age\n",
    "\n",
    "sns.distplot(y, color='r')\n",
    "\n",
    "plt.xlabel=('Age')\n",
    "plt.title=('Age Distribution')"
   ]
  },
  {
   "cell_type": "code",
   "execution_count": null,
   "metadata": {},
   "outputs": [],
   "source": []
  },
  {
   "cell_type": "code",
   "execution_count": 351,
   "metadata": {},
   "outputs": [],
   "source": [
    "a = df.Gender.value_counts()[0]\n",
    "b = df.Gender.value_counts()[1]\n",
    "c = df.Gender.value_counts()[2]\n",
    "d = df.Gender.value_counts()[3]\n",
    "e = df.Gender.value_counts()[4]"
   ]
  },
  {
   "cell_type": "code",
   "execution_count": 298,
   "metadata": {},
   "outputs": [],
   "source": [
    "# data = [['tom', 10], ['nick', 15], ['juli', 14]] \n",
    "  \n",
    "# # Create the pandas DataFrame \n",
    "# df = pd.DataFrame(data, columns = ['Name', 'Age']) \n",
    "  "
   ]
  },
  {
   "cell_type": "code",
   "execution_count": 299,
   "metadata": {},
   "outputs": [],
   "source": [
    "# data = [[]]"
   ]
  },
  {
   "cell_type": "code",
   "execution_count": 352,
   "metadata": {},
   "outputs": [],
   "source": [
    "# g = df.Gender.value_counts()\n",
    "\n",
    "# sns.barplot(g)"
   ]
  },
  {
   "cell_type": "code",
   "execution_count": 353,
   "metadata": {},
   "outputs": [],
   "source": [
    "#Target and independent variables\n",
    "\n",
    "X = df.drop('work_interfere', axis=1)\n",
    "y = df['work_interfere']"
   ]
  },
  {
   "cell_type": "code",
   "execution_count": 354,
   "metadata": {},
   "outputs": [
    {
     "data": {
      "text/plain": [
       "Sometimes    458\n",
       "Never        207\n",
       "Rarely       170\n",
       "Often        142\n",
       "Name: work_interfere, dtype: int64"
      ]
     },
     "execution_count": 354,
     "metadata": {},
     "output_type": "execute_result"
    }
   ],
   "source": [
    "y.value_counts()"
   ]
  },
  {
   "cell_type": "markdown",
   "metadata": {},
   "source": [
    "# Creating Sets¶\n"
   ]
  },
  {
   "cell_type": "code",
   "execution_count": 355,
   "metadata": {},
   "outputs": [],
   "source": [
    "X_train, X_test, y_train, y_test = train_test_split(X, y, random_state=1000, test_size=0.2)"
   ]
  },
  {
   "cell_type": "code",
   "execution_count": 356,
   "metadata": {},
   "outputs": [],
   "source": [
    "cont = X_train.select_dtypes(exclude='object')\n",
    "\n",
    "cat = X_train.select_dtypes(include='object')"
   ]
  },
  {
   "cell_type": "code",
   "execution_count": 357,
   "metadata": {},
   "outputs": [
    {
     "data": {
      "text/plain": [
       "Sometimes    361\n",
       "Never        164\n",
       "Rarely       139\n",
       "Often        117\n",
       "Name: work_interfere, dtype: int64"
      ]
     },
     "execution_count": 357,
     "metadata": {},
     "output_type": "execute_result"
    }
   ],
   "source": [
    "y_train.value_counts()"
   ]
  },
  {
   "cell_type": "code",
   "execution_count": null,
   "metadata": {},
   "outputs": [],
   "source": []
  },
  {
   "cell_type": "markdown",
   "metadata": {},
   "source": [
    "# One hot encoder\n"
   ]
  },
  {
   "cell_type": "code",
   "execution_count": 358,
   "metadata": {},
   "outputs": [],
   "source": [
    "ohe = OneHotEncoder(drop='first')"
   ]
  },
  {
   "cell_type": "code",
   "execution_count": 359,
   "metadata": {},
   "outputs": [],
   "source": [
    "train = ohe.fit_transform(cat).toarray()"
   ]
  },
  {
   "cell_type": "code",
   "execution_count": 360,
   "metadata": {},
   "outputs": [
    {
     "data": {
      "text/html": [
       "<div>\n",
       "<style scoped>\n",
       "    .dataframe tbody tr th:only-of-type {\n",
       "        vertical-align: middle;\n",
       "    }\n",
       "\n",
       "    .dataframe tbody tr th {\n",
       "        vertical-align: top;\n",
       "    }\n",
       "\n",
       "    .dataframe thead th {\n",
       "        text-align: right;\n",
       "    }\n",
       "</style>\n",
       "<table border=\"1\" class=\"dataframe\">\n",
       "  <thead>\n",
       "    <tr style=\"text-align: right;\">\n",
       "      <th></th>\n",
       "      <th>Gender_M</th>\n",
       "      <th>Gender_other</th>\n",
       "      <th>Gender_queer</th>\n",
       "      <th>Gender_trans</th>\n",
       "      <th>self_employed_Yes</th>\n",
       "      <th>family_history_Yes</th>\n",
       "      <th>treatment_Yes</th>\n",
       "      <th>no_employees_100-500</th>\n",
       "      <th>no_employees_26-100</th>\n",
       "      <th>no_employees_500-1000</th>\n",
       "      <th>...</th>\n",
       "      <th>mental_health_consequence_Yes</th>\n",
       "      <th>coworkers_Some of them</th>\n",
       "      <th>coworkers_Yes</th>\n",
       "      <th>supervisor_Some of them</th>\n",
       "      <th>supervisor_Yes</th>\n",
       "      <th>mental_health_interview_No</th>\n",
       "      <th>mental_health_interview_Yes</th>\n",
       "      <th>mental_vs_physical_No</th>\n",
       "      <th>mental_vs_physical_Yes</th>\n",
       "      <th>obs_consequence_Yes</th>\n",
       "    </tr>\n",
       "  </thead>\n",
       "  <tbody>\n",
       "    <tr>\n",
       "      <th>0</th>\n",
       "      <td>1.0</td>\n",
       "      <td>0.0</td>\n",
       "      <td>0.0</td>\n",
       "      <td>0.0</td>\n",
       "      <td>0.0</td>\n",
       "      <td>0.0</td>\n",
       "      <td>0.0</td>\n",
       "      <td>0.0</td>\n",
       "      <td>0.0</td>\n",
       "      <td>0.0</td>\n",
       "      <td>...</td>\n",
       "      <td>0.0</td>\n",
       "      <td>1.0</td>\n",
       "      <td>0.0</td>\n",
       "      <td>0.0</td>\n",
       "      <td>1.0</td>\n",
       "      <td>0.0</td>\n",
       "      <td>0.0</td>\n",
       "      <td>0.0</td>\n",
       "      <td>0.0</td>\n",
       "      <td>0.0</td>\n",
       "    </tr>\n",
       "    <tr>\n",
       "      <th>1</th>\n",
       "      <td>1.0</td>\n",
       "      <td>0.0</td>\n",
       "      <td>0.0</td>\n",
       "      <td>0.0</td>\n",
       "      <td>0.0</td>\n",
       "      <td>0.0</td>\n",
       "      <td>1.0</td>\n",
       "      <td>0.0</td>\n",
       "      <td>0.0</td>\n",
       "      <td>0.0</td>\n",
       "      <td>...</td>\n",
       "      <td>1.0</td>\n",
       "      <td>0.0</td>\n",
       "      <td>0.0</td>\n",
       "      <td>0.0</td>\n",
       "      <td>0.0</td>\n",
       "      <td>1.0</td>\n",
       "      <td>0.0</td>\n",
       "      <td>0.0</td>\n",
       "      <td>0.0</td>\n",
       "      <td>0.0</td>\n",
       "    </tr>\n",
       "    <tr>\n",
       "      <th>2</th>\n",
       "      <td>1.0</td>\n",
       "      <td>0.0</td>\n",
       "      <td>0.0</td>\n",
       "      <td>0.0</td>\n",
       "      <td>0.0</td>\n",
       "      <td>1.0</td>\n",
       "      <td>0.0</td>\n",
       "      <td>0.0</td>\n",
       "      <td>0.0</td>\n",
       "      <td>0.0</td>\n",
       "      <td>...</td>\n",
       "      <td>0.0</td>\n",
       "      <td>0.0</td>\n",
       "      <td>1.0</td>\n",
       "      <td>0.0</td>\n",
       "      <td>1.0</td>\n",
       "      <td>1.0</td>\n",
       "      <td>0.0</td>\n",
       "      <td>0.0</td>\n",
       "      <td>1.0</td>\n",
       "      <td>0.0</td>\n",
       "    </tr>\n",
       "    <tr>\n",
       "      <th>3</th>\n",
       "      <td>1.0</td>\n",
       "      <td>0.0</td>\n",
       "      <td>0.0</td>\n",
       "      <td>0.0</td>\n",
       "      <td>0.0</td>\n",
       "      <td>0.0</td>\n",
       "      <td>1.0</td>\n",
       "      <td>0.0</td>\n",
       "      <td>1.0</td>\n",
       "      <td>0.0</td>\n",
       "      <td>...</td>\n",
       "      <td>0.0</td>\n",
       "      <td>0.0</td>\n",
       "      <td>0.0</td>\n",
       "      <td>0.0</td>\n",
       "      <td>0.0</td>\n",
       "      <td>1.0</td>\n",
       "      <td>0.0</td>\n",
       "      <td>0.0</td>\n",
       "      <td>0.0</td>\n",
       "      <td>0.0</td>\n",
       "    </tr>\n",
       "    <tr>\n",
       "      <th>4</th>\n",
       "      <td>0.0</td>\n",
       "      <td>0.0</td>\n",
       "      <td>0.0</td>\n",
       "      <td>0.0</td>\n",
       "      <td>1.0</td>\n",
       "      <td>1.0</td>\n",
       "      <td>1.0</td>\n",
       "      <td>0.0</td>\n",
       "      <td>0.0</td>\n",
       "      <td>0.0</td>\n",
       "      <td>...</td>\n",
       "      <td>1.0</td>\n",
       "      <td>1.0</td>\n",
       "      <td>0.0</td>\n",
       "      <td>1.0</td>\n",
       "      <td>0.0</td>\n",
       "      <td>0.0</td>\n",
       "      <td>0.0</td>\n",
       "      <td>0.0</td>\n",
       "      <td>0.0</td>\n",
       "      <td>1.0</td>\n",
       "    </tr>\n",
       "  </tbody>\n",
       "</table>\n",
       "<p>5 rows × 38 columns</p>\n",
       "</div>"
      ],
      "text/plain": [
       "   Gender_M  Gender_other  Gender_queer  Gender_trans  self_employed_Yes  \\\n",
       "0       1.0           0.0           0.0           0.0                0.0   \n",
       "1       1.0           0.0           0.0           0.0                0.0   \n",
       "2       1.0           0.0           0.0           0.0                0.0   \n",
       "3       1.0           0.0           0.0           0.0                0.0   \n",
       "4       0.0           0.0           0.0           0.0                1.0   \n",
       "\n",
       "   family_history_Yes  treatment_Yes  no_employees_100-500  \\\n",
       "0                 0.0            0.0                   0.0   \n",
       "1                 0.0            1.0                   0.0   \n",
       "2                 1.0            0.0                   0.0   \n",
       "3                 0.0            1.0                   0.0   \n",
       "4                 1.0            1.0                   0.0   \n",
       "\n",
       "   no_employees_26-100  no_employees_500-1000  ...  \\\n",
       "0                  0.0                    0.0  ...   \n",
       "1                  0.0                    0.0  ...   \n",
       "2                  0.0                    0.0  ...   \n",
       "3                  1.0                    0.0  ...   \n",
       "4                  0.0                    0.0  ...   \n",
       "\n",
       "   mental_health_consequence_Yes  coworkers_Some of them  coworkers_Yes  \\\n",
       "0                            0.0                     1.0            0.0   \n",
       "1                            1.0                     0.0            0.0   \n",
       "2                            0.0                     0.0            1.0   \n",
       "3                            0.0                     0.0            0.0   \n",
       "4                            1.0                     1.0            0.0   \n",
       "\n",
       "   supervisor_Some of them  supervisor_Yes  mental_health_interview_No  \\\n",
       "0                      0.0             1.0                         0.0   \n",
       "1                      0.0             0.0                         1.0   \n",
       "2                      0.0             1.0                         1.0   \n",
       "3                      0.0             0.0                         1.0   \n",
       "4                      1.0             0.0                         0.0   \n",
       "\n",
       "   mental_health_interview_Yes  mental_vs_physical_No  mental_vs_physical_Yes  \\\n",
       "0                          0.0                    0.0                     0.0   \n",
       "1                          0.0                    0.0                     0.0   \n",
       "2                          0.0                    0.0                     1.0   \n",
       "3                          0.0                    0.0                     0.0   \n",
       "4                          0.0                    0.0                     0.0   \n",
       "\n",
       "   obs_consequence_Yes  \n",
       "0                  0.0  \n",
       "1                  0.0  \n",
       "2                  0.0  \n",
       "3                  0.0  \n",
       "4                  1.0  \n",
       "\n",
       "[5 rows x 38 columns]"
      ]
     },
     "execution_count": 360,
     "metadata": {},
     "output_type": "execute_result"
    }
   ],
   "source": [
    "train_df= pd.DataFrame(train, columns=ohe.get_feature_names(cat.columns))\n",
    "train_df.head()"
   ]
  },
  {
   "cell_type": "code",
   "execution_count": null,
   "metadata": {},
   "outputs": [],
   "source": []
  },
  {
   "cell_type": "code",
   "execution_count": 361,
   "metadata": {},
   "outputs": [],
   "source": [
    "train_df.reset_index(inplace=True, drop=True)"
   ]
  },
  {
   "cell_type": "code",
   "execution_count": 362,
   "metadata": {},
   "outputs": [],
   "source": [
    "cont.reset_index(inplace=True, drop=True)"
   ]
  },
  {
   "cell_type": "code",
   "execution_count": 363,
   "metadata": {},
   "outputs": [],
   "source": [
    "X_train = train_df.join(cont)"
   ]
  },
  {
   "cell_type": "code",
   "execution_count": 364,
   "metadata": {},
   "outputs": [
    {
     "data": {
      "text/html": [
       "<div>\n",
       "<style scoped>\n",
       "    .dataframe tbody tr th:only-of-type {\n",
       "        vertical-align: middle;\n",
       "    }\n",
       "\n",
       "    .dataframe tbody tr th {\n",
       "        vertical-align: top;\n",
       "    }\n",
       "\n",
       "    .dataframe thead th {\n",
       "        text-align: right;\n",
       "    }\n",
       "</style>\n",
       "<table border=\"1\" class=\"dataframe\">\n",
       "  <thead>\n",
       "    <tr style=\"text-align: right;\">\n",
       "      <th></th>\n",
       "      <th>Gender_M</th>\n",
       "      <th>Gender_other</th>\n",
       "      <th>Gender_queer</th>\n",
       "      <th>Gender_trans</th>\n",
       "      <th>self_employed_Yes</th>\n",
       "      <th>family_history_Yes</th>\n",
       "      <th>treatment_Yes</th>\n",
       "      <th>no_employees_100-500</th>\n",
       "      <th>no_employees_26-100</th>\n",
       "      <th>no_employees_500-1000</th>\n",
       "      <th>...</th>\n",
       "      <th>coworkers_Some of them</th>\n",
       "      <th>coworkers_Yes</th>\n",
       "      <th>supervisor_Some of them</th>\n",
       "      <th>supervisor_Yes</th>\n",
       "      <th>mental_health_interview_No</th>\n",
       "      <th>mental_health_interview_Yes</th>\n",
       "      <th>mental_vs_physical_No</th>\n",
       "      <th>mental_vs_physical_Yes</th>\n",
       "      <th>obs_consequence_Yes</th>\n",
       "      <th>Age</th>\n",
       "    </tr>\n",
       "  </thead>\n",
       "  <tbody>\n",
       "    <tr>\n",
       "      <th>0</th>\n",
       "      <td>1.0</td>\n",
       "      <td>0.0</td>\n",
       "      <td>0.0</td>\n",
       "      <td>0.0</td>\n",
       "      <td>0.0</td>\n",
       "      <td>0.0</td>\n",
       "      <td>0.0</td>\n",
       "      <td>0.0</td>\n",
       "      <td>0.0</td>\n",
       "      <td>0.0</td>\n",
       "      <td>...</td>\n",
       "      <td>1.0</td>\n",
       "      <td>0.0</td>\n",
       "      <td>0.0</td>\n",
       "      <td>1.0</td>\n",
       "      <td>0.0</td>\n",
       "      <td>0.0</td>\n",
       "      <td>0.0</td>\n",
       "      <td>0.0</td>\n",
       "      <td>0.0</td>\n",
       "      <td>19.0</td>\n",
       "    </tr>\n",
       "    <tr>\n",
       "      <th>1</th>\n",
       "      <td>1.0</td>\n",
       "      <td>0.0</td>\n",
       "      <td>0.0</td>\n",
       "      <td>0.0</td>\n",
       "      <td>0.0</td>\n",
       "      <td>0.0</td>\n",
       "      <td>1.0</td>\n",
       "      <td>0.0</td>\n",
       "      <td>0.0</td>\n",
       "      <td>0.0</td>\n",
       "      <td>...</td>\n",
       "      <td>0.0</td>\n",
       "      <td>0.0</td>\n",
       "      <td>0.0</td>\n",
       "      <td>0.0</td>\n",
       "      <td>1.0</td>\n",
       "      <td>0.0</td>\n",
       "      <td>0.0</td>\n",
       "      <td>0.0</td>\n",
       "      <td>0.0</td>\n",
       "      <td>43.0</td>\n",
       "    </tr>\n",
       "    <tr>\n",
       "      <th>2</th>\n",
       "      <td>1.0</td>\n",
       "      <td>0.0</td>\n",
       "      <td>0.0</td>\n",
       "      <td>0.0</td>\n",
       "      <td>0.0</td>\n",
       "      <td>1.0</td>\n",
       "      <td>0.0</td>\n",
       "      <td>0.0</td>\n",
       "      <td>0.0</td>\n",
       "      <td>0.0</td>\n",
       "      <td>...</td>\n",
       "      <td>0.0</td>\n",
       "      <td>1.0</td>\n",
       "      <td>0.0</td>\n",
       "      <td>1.0</td>\n",
       "      <td>1.0</td>\n",
       "      <td>0.0</td>\n",
       "      <td>0.0</td>\n",
       "      <td>1.0</td>\n",
       "      <td>0.0</td>\n",
       "      <td>49.0</td>\n",
       "    </tr>\n",
       "    <tr>\n",
       "      <th>3</th>\n",
       "      <td>1.0</td>\n",
       "      <td>0.0</td>\n",
       "      <td>0.0</td>\n",
       "      <td>0.0</td>\n",
       "      <td>0.0</td>\n",
       "      <td>0.0</td>\n",
       "      <td>1.0</td>\n",
       "      <td>0.0</td>\n",
       "      <td>1.0</td>\n",
       "      <td>0.0</td>\n",
       "      <td>...</td>\n",
       "      <td>0.0</td>\n",
       "      <td>0.0</td>\n",
       "      <td>0.0</td>\n",
       "      <td>0.0</td>\n",
       "      <td>1.0</td>\n",
       "      <td>0.0</td>\n",
       "      <td>0.0</td>\n",
       "      <td>0.0</td>\n",
       "      <td>0.0</td>\n",
       "      <td>30.0</td>\n",
       "    </tr>\n",
       "    <tr>\n",
       "      <th>4</th>\n",
       "      <td>0.0</td>\n",
       "      <td>0.0</td>\n",
       "      <td>0.0</td>\n",
       "      <td>0.0</td>\n",
       "      <td>1.0</td>\n",
       "      <td>1.0</td>\n",
       "      <td>1.0</td>\n",
       "      <td>0.0</td>\n",
       "      <td>0.0</td>\n",
       "      <td>0.0</td>\n",
       "      <td>...</td>\n",
       "      <td>1.0</td>\n",
       "      <td>0.0</td>\n",
       "      <td>1.0</td>\n",
       "      <td>0.0</td>\n",
       "      <td>0.0</td>\n",
       "      <td>0.0</td>\n",
       "      <td>0.0</td>\n",
       "      <td>0.0</td>\n",
       "      <td>1.0</td>\n",
       "      <td>37.0</td>\n",
       "    </tr>\n",
       "  </tbody>\n",
       "</table>\n",
       "<p>5 rows × 39 columns</p>\n",
       "</div>"
      ],
      "text/plain": [
       "   Gender_M  Gender_other  Gender_queer  Gender_trans  self_employed_Yes  \\\n",
       "0       1.0           0.0           0.0           0.0                0.0   \n",
       "1       1.0           0.0           0.0           0.0                0.0   \n",
       "2       1.0           0.0           0.0           0.0                0.0   \n",
       "3       1.0           0.0           0.0           0.0                0.0   \n",
       "4       0.0           0.0           0.0           0.0                1.0   \n",
       "\n",
       "   family_history_Yes  treatment_Yes  no_employees_100-500  \\\n",
       "0                 0.0            0.0                   0.0   \n",
       "1                 0.0            1.0                   0.0   \n",
       "2                 1.0            0.0                   0.0   \n",
       "3                 0.0            1.0                   0.0   \n",
       "4                 1.0            1.0                   0.0   \n",
       "\n",
       "   no_employees_26-100  no_employees_500-1000  ...  coworkers_Some of them  \\\n",
       "0                  0.0                    0.0  ...                     1.0   \n",
       "1                  0.0                    0.0  ...                     0.0   \n",
       "2                  0.0                    0.0  ...                     0.0   \n",
       "3                  1.0                    0.0  ...                     0.0   \n",
       "4                  0.0                    0.0  ...                     1.0   \n",
       "\n",
       "   coworkers_Yes  supervisor_Some of them  supervisor_Yes  \\\n",
       "0            0.0                      0.0             1.0   \n",
       "1            0.0                      0.0             0.0   \n",
       "2            1.0                      0.0             1.0   \n",
       "3            0.0                      0.0             0.0   \n",
       "4            0.0                      1.0             0.0   \n",
       "\n",
       "   mental_health_interview_No  mental_health_interview_Yes  \\\n",
       "0                         0.0                          0.0   \n",
       "1                         1.0                          0.0   \n",
       "2                         1.0                          0.0   \n",
       "3                         1.0                          0.0   \n",
       "4                         0.0                          0.0   \n",
       "\n",
       "   mental_vs_physical_No  mental_vs_physical_Yes  obs_consequence_Yes   Age  \n",
       "0                    0.0                     0.0                  0.0  19.0  \n",
       "1                    0.0                     0.0                  0.0  43.0  \n",
       "2                    0.0                     1.0                  0.0  49.0  \n",
       "3                    0.0                     0.0                  0.0  30.0  \n",
       "4                    0.0                     0.0                  1.0  37.0  \n",
       "\n",
       "[5 rows x 39 columns]"
      ]
     },
     "execution_count": 364,
     "metadata": {},
     "output_type": "execute_result"
    }
   ],
   "source": [
    "X_train.head()"
   ]
  },
  {
   "cell_type": "code",
   "execution_count": null,
   "metadata": {},
   "outputs": [],
   "source": []
  },
  {
   "cell_type": "code",
   "execution_count": null,
   "metadata": {},
   "outputs": [],
   "source": []
  },
  {
   "cell_type": "markdown",
   "metadata": {},
   "source": [
    "# SMOTE"
   ]
  },
  {
   "cell_type": "markdown",
   "metadata": {},
   "source": [
    "SMOTE or Synthetic Minority Oversampling Technique. SMOTE uses a nearest neighbors algorithm to generate new and synthetic data we can use for training our model."
   ]
  },
  {
   "cell_type": "code",
   "execution_count": 365,
   "metadata": {},
   "outputs": [],
   "source": [
    "\n",
    "from imblearn.over_sampling import SMOTE\n",
    "\n",
    "sm = SMOTE(random_state=28)\n",
    "X_sampled, y_sampled = sm.fit_sample(X_train, y_train)"
   ]
  },
  {
   "cell_type": "code",
   "execution_count": 366,
   "metadata": {},
   "outputs": [
    {
     "data": {
      "text/plain": [
       "Never        361\n",
       "Often        361\n",
       "Sometimes    361\n",
       "Rarely       361\n",
       "Name: work_interfere, dtype: int64"
      ]
     },
     "execution_count": 366,
     "metadata": {},
     "output_type": "execute_result"
    }
   ],
   "source": [
    "y_sampled.value_counts()"
   ]
  },
  {
   "cell_type": "code",
   "execution_count": null,
   "metadata": {},
   "outputs": [],
   "source": []
  },
  {
   "cell_type": "code",
   "execution_count": null,
   "metadata": {},
   "outputs": [],
   "source": []
  },
  {
   "cell_type": "markdown",
   "metadata": {},
   "source": [
    "# Random Forest"
   ]
  },
  {
   "cell_type": "code",
   "execution_count": 454,
   "metadata": {},
   "outputs": [],
   "source": [
    "from sklearn.ensemble import BaggingClassifier, RandomForestClassifier\n",
    "forest = RandomForestClassifier(n_estimators=100, random_state=28, max_depth=5)\n",
    "\n",
    "forest_model= forest.fit(X_sampled, y_sampled)"
   ]
  },
  {
   "cell_type": "code",
   "execution_count": 455,
   "metadata": {},
   "outputs": [
    {
     "data": {
      "text/plain": [
       "0.731994459833795"
      ]
     },
     "execution_count": 455,
     "metadata": {},
     "output_type": "execute_result"
    }
   ],
   "source": [
    "forest_model.score(X_sampled, y_sampled)"
   ]
  },
  {
   "cell_type": "code",
   "execution_count": 451,
   "metadata": {},
   "outputs": [
    {
     "data": {
      "text/plain": [
       "(39,)"
      ]
     },
     "execution_count": 451,
     "metadata": {},
     "output_type": "execute_result"
    }
   ],
   "source": [
    "forest_model.feature_importances_.shape"
   ]
  },
  {
   "cell_type": "code",
   "execution_count": 463,
   "metadata": {},
   "outputs": [],
   "source": [
    "feature_imp = forest_model.feature_importances_"
   ]
  },
  {
   "cell_type": "code",
   "execution_count": null,
   "metadata": {},
   "outputs": [],
   "source": []
  },
  {
   "cell_type": "code",
   "execution_count": 456,
   "metadata": {},
   "outputs": [
    {
     "data": {
      "text/html": [
       "<div>\n",
       "<style scoped>\n",
       "    .dataframe tbody tr th:only-of-type {\n",
       "        vertical-align: middle;\n",
       "    }\n",
       "\n",
       "    .dataframe tbody tr th {\n",
       "        vertical-align: top;\n",
       "    }\n",
       "\n",
       "    .dataframe thead th {\n",
       "        text-align: right;\n",
       "    }\n",
       "</style>\n",
       "<table border=\"1\" class=\"dataframe\">\n",
       "  <thead>\n",
       "    <tr style=\"text-align: right;\">\n",
       "      <th></th>\n",
       "      <th>0</th>\n",
       "      <th>1</th>\n",
       "      <th>2</th>\n",
       "      <th>3</th>\n",
       "      <th>4</th>\n",
       "      <th>5</th>\n",
       "      <th>6</th>\n",
       "      <th>7</th>\n",
       "      <th>8</th>\n",
       "      <th>9</th>\n",
       "      <th>...</th>\n",
       "      <th>29</th>\n",
       "      <th>30</th>\n",
       "      <th>31</th>\n",
       "      <th>32</th>\n",
       "      <th>33</th>\n",
       "      <th>34</th>\n",
       "      <th>35</th>\n",
       "      <th>36</th>\n",
       "      <th>37</th>\n",
       "      <th>38</th>\n",
       "    </tr>\n",
       "  </thead>\n",
       "  <tbody>\n",
       "    <tr>\n",
       "      <th>0</th>\n",
       "      <td>0.028925</td>\n",
       "      <td>0.000364</td>\n",
       "      <td>0.000089</td>\n",
       "      <td>0.000394</td>\n",
       "      <td>0.032418</td>\n",
       "      <td>0.099172</td>\n",
       "      <td>0.244688</td>\n",
       "      <td>0.008969</td>\n",
       "      <td>0.024792</td>\n",
       "      <td>0.010079</td>\n",
       "      <td>...</td>\n",
       "      <td>0.016053</td>\n",
       "      <td>0.010519</td>\n",
       "      <td>0.015375</td>\n",
       "      <td>0.013826</td>\n",
       "      <td>0.022109</td>\n",
       "      <td>0.003501</td>\n",
       "      <td>0.012559</td>\n",
       "      <td>0.009629</td>\n",
       "      <td>0.023998</td>\n",
       "      <td>0.036184</td>\n",
       "    </tr>\n",
       "  </tbody>\n",
       "</table>\n",
       "<p>1 rows × 39 columns</p>\n",
       "</div>"
      ],
      "text/plain": [
       "         0         1         2         3         4         5         6   \\\n",
       "0  0.028925  0.000364  0.000089  0.000394  0.032418  0.099172  0.244688   \n",
       "\n",
       "         7         8         9   ...        29        30        31        32  \\\n",
       "0  0.008969  0.024792  0.010079  ...  0.016053  0.010519  0.015375  0.013826   \n",
       "\n",
       "         33        34        35        36        37        38  \n",
       "0  0.022109  0.003501  0.012559  0.009629  0.023998  0.036184  \n",
       "\n",
       "[1 rows x 39 columns]"
      ]
     },
     "execution_count": 456,
     "metadata": {},
     "output_type": "execute_result"
    }
   ],
   "source": [
    "forest_classes = pd.DataFrame(forest_model.feature_importances_)\n",
    "\n",
    "#forest_classes.columns = \n",
    "\n",
    "#X_sampled.columns\n",
    "forest_classes.T"
   ]
  },
  {
   "cell_type": "code",
   "execution_count": null,
   "metadata": {},
   "outputs": [],
   "source": []
  },
  {
   "cell_type": "code",
   "execution_count": null,
   "metadata": {},
   "outputs": [],
   "source": []
  },
  {
   "cell_type": "code",
   "execution_count": null,
   "metadata": {},
   "outputs": [],
   "source": []
  },
  {
   "cell_type": "code",
   "execution_count": 417,
   "metadata": {},
   "outputs": [],
   "source": [
    "# features = pd.DataFrame(X_train.columns.values)\n",
    "# features['feature_importances'] = forest_model.feature_importances_\n",
    "\n",
    "\n",
    "# features.columns = ['features','feature_importances']\n",
    "\n",
    "# features= features.sort_values(by=['feature_importances'], ascending=False)\n",
    "# features.reset_index(drop='first', inplace= True)\n",
    "# features.head(2)"
   ]
  },
  {
   "cell_type": "code",
   "execution_count": null,
   "metadata": {},
   "outputs": [],
   "source": []
  },
  {
   "cell_type": "code",
   "execution_count": 370,
   "metadata": {},
   "outputs": [
    {
     "data": {
      "image/png": "[encoded data removed]",
      "text/plain": [
       "<Figure size 864x720 with 1 Axes>"
      ]
     },
     "metadata": {
      "needs_background": "light"
     },
     "output_type": "display_data"
    }
   ],
   "source": [
    "y = features.feature_importances\n",
    "x = features.features\n",
    "\n",
    "plt.figure(figsize=(12, 10))\n",
    "sns.barplot(y, x)\n",
    "\n",
    "plt.yticks(fontsize=13)\n",
    "plt.xticks(fontsize=13)\n",
    "\n",
    "plt.ylabel('Features', fontsize=20)\n",
    "#plt.xlabel('feature_importances', fontsize=20)\n",
    "\n",
    "plt.show()"
   ]
  },
  {
   "cell_type": "code",
   "execution_count": null,
   "metadata": {},
   "outputs": [],
   "source": []
  },
  {
   "cell_type": "code",
   "execution_count": 380,
   "metadata": {},
   "outputs": [],
   "source": [
    "tree_clf = DecisionTreeClassifier(criterion='gini', max_depth=5) \n",
    "tree_model = tree_clf.fit(X_sampled, y_sampled)"
   ]
  },
  {
   "cell_type": "code",
   "execution_count": 381,
   "metadata": {},
   "outputs": [
    {
     "data": {
      "text/plain": [
       "0.5948753462603878"
      ]
     },
     "execution_count": 381,
     "metadata": {},
     "output_type": "execute_result"
    }
   ],
   "source": [
    "tree_model.score(X_sampled, y_sampled)"
   ]
  },
  {
   "cell_type": "code",
   "execution_count": null,
   "metadata": {},
   "outputs": [],
   "source": []
  },
  {
   "cell_type": "code",
   "execution_count": 387,
   "metadata": {},
   "outputs": [],
   "source": [
    "#pred = tree_model.predict(X_test)\n",
    "\n",
    "# Confusion matrix and classification report\n",
    "# print(confusion_matrix(y_test, pred))\n",
    "# print(classification_report(y_test, pred))"
   ]
  },
  {
   "cell_type": "code",
   "execution_count": null,
   "metadata": {},
   "outputs": [],
   "source": []
  },
  {
   "cell_type": "markdown",
   "metadata": {},
   "source": [
    "# Logistic Regression "
   ]
  },
  {
   "cell_type": "code",
   "execution_count": 371,
   "metadata": {},
   "outputs": [],
   "source": [
    "from sklearn.linear_model import LogisticRegression\n",
    "\n",
    "logreg = LogisticRegression(C=1e12, solver='liblinear', random_state=28)\n",
    "\n",
    "log_model = logreg.fit(X_sampled, y_sampled)"
   ]
  },
  {
   "cell_type": "code",
   "execution_count": 372,
   "metadata": {},
   "outputs": [
    {
     "data": {
      "text/plain": [
       "0.5761772853185596"
      ]
     },
     "execution_count": 372,
     "metadata": {},
     "output_type": "execute_result"
    }
   ],
   "source": [
    "log_model.score(X_sampled, y_sampled)"
   ]
  },
  {
   "cell_type": "code",
   "execution_count": null,
   "metadata": {},
   "outputs": [],
   "source": []
  },
  {
   "cell_type": "code",
   "execution_count": 373,
   "metadata": {},
   "outputs": [],
   "source": [
    "df_coef = pd.DataFrame(model.coef_, index=model.classes_)"
   ]
  },
  {
   "cell_type": "code",
   "execution_count": null,
   "metadata": {},
   "outputs": [],
   "source": []
  },
  {
   "cell_type": "code",
   "execution_count": 423,
   "metadata": {},
   "outputs": [
    {
     "data": {
      "text/html": [
       "<div>\n",
       "<style scoped>\n",
       "    .dataframe tbody tr th:only-of-type {\n",
       "        vertical-align: middle;\n",
       "    }\n",
       "\n",
       "    .dataframe tbody tr th {\n",
       "        vertical-align: top;\n",
       "    }\n",
       "\n",
       "    .dataframe thead th {\n",
       "        text-align: right;\n",
       "    }\n",
       "</style>\n",
       "<table border=\"1\" class=\"dataframe\">\n",
       "  <thead>\n",
       "    <tr style=\"text-align: right;\">\n",
       "      <th></th>\n",
       "      <th>Gender_M</th>\n",
       "      <th>Gender_other</th>\n",
       "      <th>Gender_queer</th>\n",
       "      <th>Gender_trans</th>\n",
       "      <th>self_employed_Yes</th>\n",
       "      <th>family_history_Yes</th>\n",
       "      <th>treatment_Yes</th>\n",
       "      <th>no_employees_100-500</th>\n",
       "      <th>no_employees_26-100</th>\n",
       "      <th>no_employees_500-1000</th>\n",
       "      <th>...</th>\n",
       "      <th>coworkers_Some of them</th>\n",
       "      <th>coworkers_Yes</th>\n",
       "      <th>supervisor_Some of them</th>\n",
       "      <th>supervisor_Yes</th>\n",
       "      <th>mental_health_interview_No</th>\n",
       "      <th>mental_health_interview_Yes</th>\n",
       "      <th>mental_vs_physical_No</th>\n",
       "      <th>mental_vs_physical_Yes</th>\n",
       "      <th>obs_consequence_Yes</th>\n",
       "      <th>Age</th>\n",
       "    </tr>\n",
       "  </thead>\n",
       "  <tbody>\n",
       "    <tr>\n",
       "      <th>Never</th>\n",
       "      <td>0.455329</td>\n",
       "      <td>-1.500627</td>\n",
       "      <td>0.956426</td>\n",
       "      <td>-0.846008</td>\n",
       "      <td>0.147103</td>\n",
       "      <td>-0.992507</td>\n",
       "      <td>-3.021669</td>\n",
       "      <td>1.024926</td>\n",
       "      <td>0.819992</td>\n",
       "      <td>1.639639</td>\n",
       "      <td>...</td>\n",
       "      <td>-0.473699</td>\n",
       "      <td>-0.509100</td>\n",
       "      <td>0.149379</td>\n",
       "      <td>0.382492</td>\n",
       "      <td>-0.134126</td>\n",
       "      <td>0.563666</td>\n",
       "      <td>-0.012133</td>\n",
       "      <td>0.004381</td>\n",
       "      <td>-0.285344</td>\n",
       "      <td>0.027821</td>\n",
       "    </tr>\n",
       "    <tr>\n",
       "      <th>Often</th>\n",
       "      <td>-0.125303</td>\n",
       "      <td>-0.346879</td>\n",
       "      <td>-3.947932</td>\n",
       "      <td>1.883901</td>\n",
       "      <td>0.517752</td>\n",
       "      <td>0.064311</td>\n",
       "      <td>1.294394</td>\n",
       "      <td>-0.627894</td>\n",
       "      <td>-0.320979</td>\n",
       "      <td>-6.086228</td>\n",
       "      <td>...</td>\n",
       "      <td>-0.511324</td>\n",
       "      <td>0.045549</td>\n",
       "      <td>0.446681</td>\n",
       "      <td>0.656613</td>\n",
       "      <td>-0.501768</td>\n",
       "      <td>-0.351309</td>\n",
       "      <td>-0.102035</td>\n",
       "      <td>-0.064158</td>\n",
       "      <td>0.254293</td>\n",
       "      <td>-0.024232</td>\n",
       "    </tr>\n",
       "    <tr>\n",
       "      <th>Rarely</th>\n",
       "      <td>-0.199666</td>\n",
       "      <td>-0.169036</td>\n",
       "      <td>0.423414</td>\n",
       "      <td>-2.609111</td>\n",
       "      <td>-0.722708</td>\n",
       "      <td>-0.001094</td>\n",
       "      <td>0.276074</td>\n",
       "      <td>-0.149602</td>\n",
       "      <td>-0.711187</td>\n",
       "      <td>0.009033</td>\n",
       "      <td>...</td>\n",
       "      <td>-0.037605</td>\n",
       "      <td>0.228690</td>\n",
       "      <td>-0.600702</td>\n",
       "      <td>-0.540183</td>\n",
       "      <td>0.202117</td>\n",
       "      <td>0.114090</td>\n",
       "      <td>-0.185739</td>\n",
       "      <td>-0.406631</td>\n",
       "      <td>-0.151559</td>\n",
       "      <td>0.002011</td>\n",
       "    </tr>\n",
       "    <tr>\n",
       "      <th>Sometimes</th>\n",
       "      <td>-0.024751</td>\n",
       "      <td>0.013440</td>\n",
       "      <td>0.283770</td>\n",
       "      <td>-1.380331</td>\n",
       "      <td>-0.054772</td>\n",
       "      <td>0.363561</td>\n",
       "      <td>1.059379</td>\n",
       "      <td>-0.034666</td>\n",
       "      <td>0.196162</td>\n",
       "      <td>-0.148271</td>\n",
       "      <td>...</td>\n",
       "      <td>0.404584</td>\n",
       "      <td>0.011310</td>\n",
       "      <td>0.060823</td>\n",
       "      <td>-0.199511</td>\n",
       "      <td>0.305544</td>\n",
       "      <td>-0.005163</td>\n",
       "      <td>0.134877</td>\n",
       "      <td>0.298344</td>\n",
       "      <td>-0.050341</td>\n",
       "      <td>-0.000370</td>\n",
       "    </tr>\n",
       "  </tbody>\n",
       "</table>\n",
       "<p>4 rows × 39 columns</p>\n",
       "</div>"
      ],
      "text/plain": [
       "           Gender_M  Gender_other  Gender_queer  Gender_trans  \\\n",
       "Never      0.455329     -1.500627      0.956426     -0.846008   \n",
       "Often     -0.125303     -0.346879     -3.947932      1.883901   \n",
       "Rarely    -0.199666     -0.169036      0.423414     -2.609111   \n",
       "Sometimes -0.024751      0.013440      0.283770     -1.380331   \n",
       "\n",
       "           self_employed_Yes  family_history_Yes  treatment_Yes  \\\n",
       "Never               0.147103           -0.992507      -3.021669   \n",
       "Often               0.517752            0.064311       1.294394   \n",
       "Rarely             -0.722708           -0.001094       0.276074   \n",
       "Sometimes          -0.054772            0.363561       1.059379   \n",
       "\n",
       "           no_employees_100-500  no_employees_26-100  no_employees_500-1000  \\\n",
       "Never                  1.024926             0.819992               1.639639   \n",
       "Often                 -0.627894            -0.320979              -6.086228   \n",
       "Rarely                -0.149602            -0.711187               0.009033   \n",
       "Sometimes             -0.034666             0.196162              -0.148271   \n",
       "\n",
       "           ...  coworkers_Some of them  coworkers_Yes  \\\n",
       "Never      ...               -0.473699      -0.509100   \n",
       "Often      ...               -0.511324       0.045549   \n",
       "Rarely     ...               -0.037605       0.228690   \n",
       "Sometimes  ...                0.404584       0.011310   \n",
       "\n",
       "           supervisor_Some of them  supervisor_Yes  \\\n",
       "Never                     0.149379        0.382492   \n",
       "Often                     0.446681        0.656613   \n",
       "Rarely                   -0.600702       -0.540183   \n",
       "Sometimes                 0.060823       -0.199511   \n",
       "\n",
       "           mental_health_interview_No  mental_health_interview_Yes  \\\n",
       "Never                       -0.134126                     0.563666   \n",
       "Often                       -0.501768                    -0.351309   \n",
       "Rarely                       0.202117                     0.114090   \n",
       "Sometimes                    0.305544                    -0.005163   \n",
       "\n",
       "           mental_vs_physical_No  mental_vs_physical_Yes  obs_consequence_Yes  \\\n",
       "Never                  -0.012133                0.004381            -0.285344   \n",
       "Often                  -0.102035               -0.064158             0.254293   \n",
       "Rarely                 -0.185739               -0.406631            -0.151559   \n",
       "Sometimes               0.134877                0.298344            -0.050341   \n",
       "\n",
       "                Age  \n",
       "Never      0.027821  \n",
       "Often     -0.024232  \n",
       "Rarely     0.002011  \n",
       "Sometimes -0.000370  \n",
       "\n",
       "[4 rows x 39 columns]"
      ]
     },
     "execution_count": 423,
     "metadata": {},
     "output_type": "execute_result"
    }
   ],
   "source": [
    "df_coef.columns = X_sampled.columns\n",
    "df_coef"
   ]
  },
  {
   "cell_type": "code",
   "execution_count": 459,
   "metadata": {},
   "outputs": [],
   "source": [
    "#sns.barplot(df_coef.index, df_coef.columns)"
   ]
  },
  {
   "cell_type": "markdown",
   "metadata": {},
   "source": [
    "# PCA"
   ]
  },
  {
   "cell_type": "code",
   "execution_count": 375,
   "metadata": {},
   "outputs": [],
   "source": [
    "from sklearn.decomposition import PCA\n",
    "pca = PCA()\n",
    "p_df = pca.fit(X_sampled)"
   ]
  },
  {
   "cell_type": "code",
   "execution_count": 376,
   "metadata": {},
   "outputs": [
    {
     "data": {
      "image/png": "[encoded data removed]",
      "text/plain": [
       "<Figure size 504x360 with 1 Axes>"
      ]
     },
     "metadata": {
      "needs_background": "light"
     },
     "output_type": "display_data"
    }
   ],
   "source": [
    "plt.figure(figsize=(7,5))\n",
    "plt.plot(np.cumsum(p_df.explained_variance_ratio_))\n",
    "plt.xticks(range(24))\n",
    "plt.show()"
   ]
  },
  {
   "cell_type": "markdown",
   "metadata": {},
   "source": []
  },
  {
   "cell_type": "code",
   "execution_count": 391,
   "metadata": {},
   "outputs": [],
   "source": [
    "from sklearn.ensemble import AdaBoostClassifier\n",
    "abc = AdaBoostClassifier(n_estimators=50)"
   ]
  },
  {
   "cell_type": "code",
   "execution_count": 393,
   "metadata": {},
   "outputs": [],
   "source": [
    "boost_model = abc.fit(X_sampled, y_sampled)"
   ]
  },
  {
   "cell_type": "code",
   "execution_count": 394,
   "metadata": {},
   "outputs": [
    {
     "data": {
      "text/plain": [
       "0.6018005540166205"
      ]
     },
     "execution_count": 394,
     "metadata": {},
     "output_type": "execute_result"
    }
   ],
   "source": [
    "boost_model.score(X_sampled, y_sampled)"
   ]
  },
  {
   "cell_type": "code",
   "execution_count": null,
   "metadata": {},
   "outputs": [],
   "source": []
  },
  {
   "cell_type": "code",
   "execution_count": 398,
   "metadata": {},
   "outputs": [],
   "source": [
    "boost_features = boost_model.feature_importances_\n",
    "boost_columns = X_sampled.columns"
   ]
  },
  {
   "cell_type": "code",
   "execution_count": 406,
   "metadata": {},
   "outputs": [],
   "source": [
    "a = pd.DataFrame(boost_features)\n"
   ]
  },
  {
   "cell_type": "code",
   "execution_count": null,
   "metadata": {},
   "outputs": [],
   "source": []
  },
  {
   "cell_type": "code",
   "execution_count": 414,
   "metadata": {},
   "outputs": [
    {
     "data": {
      "text/plain": [
       "<matplotlib.axes._subplots.AxesSubplot at 0x1a2b72dac8>"
      ]
     },
     "execution_count": 414,
     "metadata": {},
     "output_type": "execute_result"
    },
    {
     "data": {
      "image/png": "[encoded data removed]",
      "text/plain": [
       "<Figure size 864x720 with 1 Axes>"
      ]
     },
     "metadata": {
      "needs_background": "light"
     },
     "output_type": "display_data"
    }
   ],
   "source": [
    "plt.figure(figsize=(12, 10))\n",
    "sns.barplot(boost_features, boost_columns)"
   ]
  },
  {
   "cell_type": "code",
   "execution_count": null,
   "metadata": {},
   "outputs": [],
   "source": []
  }
 ],
 "metadata": {
  "kernelspec": {
   "display_name": "Python 3",
   "language": "python",
   "name": "python3"
  },
  "language_info": {
   "codemirror_mode": {
    "name": "ipython",
    "version": 3
   },
   "file_extension": ".py",
   "mimetype": "text/x-python",
   "name": "python",
   "nbconvert_exporter": "python",
   "pygments_lexer": "ipython3",
   "version": "3.7.0"
  }
 },
 "nbformat": 4,
 "nbformat_minor": 4
}
