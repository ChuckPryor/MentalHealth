{
 "cells": [
  {
   "cell_type": "markdown",
   "metadata": {},
   "source": [
    "# Imports"
   ]
  },
  {
   "cell_type": "code",
   "execution_count": 427,
   "metadata": {},
   "outputs": [],
   "source": [
    "import pandas as pd\n",
    "import numpy as np\n",
    "import matplotlib.pyplot as plt\n",
    "import seaborn as sns\n",
    "import itertools\n",
    "%matplotlib inline\n",
    "\n",
    "\n",
    "from sklearn.model_selection import train_test_split\n",
    "from sklearn.linear_model import LogisticRegression\n",
    "from sklearn.preprocessing import OneHotEncoder\n",
    "from sklearn.model_selection import train_test_split, GridSearchCV\n",
    "from sklearn.tree import DecisionTreeClassifier\n",
    "from sklearn.ensemble import BaggingClassifier, RandomForestClassifier\n",
    "from sklearn.metrics import accuracy_score, confusion_matrix, classification_report\n",
    "\n",
    "\n",
    "from sklearn.ensemble import ExtraTreesClassifier"
   ]
  },
  {
   "cell_type": "markdown",
   "metadata": {},
   "source": [
    "question - how often mental health related issues interfer with work?\n",
    "given different resources(eduction, benefits, counseling, workfrom home) companies provide "
   ]
  },
  {
   "cell_type": "markdown",
   "metadata": {},
   "source": [
    "Work interference - If you have a mental health condition, do you feel that it interferes with your work?\n",
    "\n",
    "remote work- Do you work remotely (outside of an office) at least 50% of the time?\n",
    "\n",
    "benefits - Does your employer provide mental health benefits?\n",
    "\n",
    "care options - Do you know the options for mental health care your employer provides?\n",
    "\n",
    "wellness program - Has your employer ever discussed mental health as part of an employee wellness program?\n",
    "\n",
    "seek help - Does your employer provide resources to learn more about mental health issues and how to seek help?\n",
    "\n",
    "annonimity - Is your anonymity protected if you choose to take advantage of mental health or substance abuse treatment\n",
    "\n",
    "leave - How easy is it for you to take medical leave for a mental health condition?\n",
    "\n",
    "mental health conseq - Do you think that discussing a mental health issue with your employer would have negative consequences?\n",
    "\n",
    "phys_health_consequence - Do you think that discussing a physical health issue with your employer would have negative consequences?\n",
    "\n",
    "treatment- Have you sought treatment for a mental health condition?\n"
   ]
  },
  {
   "cell_type": "markdown",
   "metadata": {},
   "source": [
    "# EDA"
   ]
  },
  {
   "cell_type": "code",
   "execution_count": 428,
   "metadata": {},
   "outputs": [
    {
     "data": {
      "text/html": [
       "<div>\n",
       "<style scoped>\n",
       "    .dataframe tbody tr th:only-of-type {\n",
       "        vertical-align: middle;\n",
       "    }\n",
       "\n",
       "    .dataframe tbody tr th {\n",
       "        vertical-align: top;\n",
       "    }\n",
       "\n",
       "    .dataframe thead th {\n",
       "        text-align: right;\n",
       "    }\n",
       "</style>\n",
       "<table border=\"1\" class=\"dataframe\">\n",
       "  <thead>\n",
       "    <tr style=\"text-align: right;\">\n",
       "      <th></th>\n",
       "      <th>Timestamp</th>\n",
       "      <th>Age</th>\n",
       "      <th>Gender</th>\n",
       "      <th>Country</th>\n",
       "      <th>state</th>\n",
       "      <th>self_employed</th>\n",
       "      <th>family_history</th>\n",
       "      <th>treatment</th>\n",
       "      <th>work_interfere</th>\n",
       "      <th>no_employees</th>\n",
       "      <th>...</th>\n",
       "      <th>leave</th>\n",
       "      <th>mental_health_consequence</th>\n",
       "      <th>phys_health_consequence</th>\n",
       "      <th>coworkers</th>\n",
       "      <th>supervisor</th>\n",
       "      <th>mental_health_interview</th>\n",
       "      <th>phys_health_interview</th>\n",
       "      <th>mental_vs_physical</th>\n",
       "      <th>obs_consequence</th>\n",
       "      <th>comments</th>\n",
       "    </tr>\n",
       "  </thead>\n",
       "  <tbody>\n",
       "    <tr>\n",
       "      <th>0</th>\n",
       "      <td>2014-08-27 11:29:31</td>\n",
       "      <td>37</td>\n",
       "      <td>Female</td>\n",
       "      <td>United States</td>\n",
       "      <td>IL</td>\n",
       "      <td>NaN</td>\n",
       "      <td>No</td>\n",
       "      <td>Yes</td>\n",
       "      <td>Often</td>\n",
       "      <td>6-25</td>\n",
       "      <td>...</td>\n",
       "      <td>Somewhat easy</td>\n",
       "      <td>No</td>\n",
       "      <td>No</td>\n",
       "      <td>Some of them</td>\n",
       "      <td>Yes</td>\n",
       "      <td>No</td>\n",
       "      <td>Maybe</td>\n",
       "      <td>Yes</td>\n",
       "      <td>No</td>\n",
       "      <td>NaN</td>\n",
       "    </tr>\n",
       "    <tr>\n",
       "      <th>1</th>\n",
       "      <td>2014-08-27 11:29:37</td>\n",
       "      <td>44</td>\n",
       "      <td>M</td>\n",
       "      <td>United States</td>\n",
       "      <td>IN</td>\n",
       "      <td>NaN</td>\n",
       "      <td>No</td>\n",
       "      <td>No</td>\n",
       "      <td>Rarely</td>\n",
       "      <td>More than 1000</td>\n",
       "      <td>...</td>\n",
       "      <td>Don't know</td>\n",
       "      <td>Maybe</td>\n",
       "      <td>No</td>\n",
       "      <td>No</td>\n",
       "      <td>No</td>\n",
       "      <td>No</td>\n",
       "      <td>No</td>\n",
       "      <td>Don't know</td>\n",
       "      <td>No</td>\n",
       "      <td>NaN</td>\n",
       "    </tr>\n",
       "  </tbody>\n",
       "</table>\n",
       "<p>2 rows × 27 columns</p>\n",
       "</div>"
      ],
      "text/plain": [
       "             Timestamp  Age  Gender        Country state self_employed  \\\n",
       "0  2014-08-27 11:29:31   37  Female  United States    IL           NaN   \n",
       "1  2014-08-27 11:29:37   44       M  United States    IN           NaN   \n",
       "\n",
       "  family_history treatment work_interfere    no_employees  ...          leave  \\\n",
       "0             No       Yes          Often            6-25  ...  Somewhat easy   \n",
       "1             No        No         Rarely  More than 1000  ...     Don't know   \n",
       "\n",
       "  mental_health_consequence phys_health_consequence     coworkers supervisor  \\\n",
       "0                        No                      No  Some of them        Yes   \n",
       "1                     Maybe                      No            No         No   \n",
       "\n",
       "  mental_health_interview phys_health_interview mental_vs_physical  \\\n",
       "0                      No                 Maybe                Yes   \n",
       "1                      No                    No         Don't know   \n",
       "\n",
       "  obs_consequence comments  \n",
       "0              No      NaN  \n",
       "1              No      NaN  \n",
       "\n",
       "[2 rows x 27 columns]"
      ]
     },
     "execution_count": 428,
     "metadata": {},
     "output_type": "execute_result"
    }
   ],
   "source": [
    "df = pd.read_csv('data.csv')\n",
    "df.head(2)"
   ]
  },
  {
   "cell_type": "code",
   "execution_count": 467,
   "metadata": {},
   "outputs": [
    {
     "data": {
      "text/plain": [
       "1-25              353\n",
       "26-100            224\n",
       "More than 1000    220\n",
       "100-500           137\n",
       "500-1000           43\n",
       "Name: no_employees, dtype: int64"
      ]
     },
     "execution_count": 467,
     "metadata": {},
     "output_type": "execute_result"
    }
   ],
   "source": [
    "df.no_employees.value_counts()"
   ]
  },
  {
   "cell_type": "code",
   "execution_count": 429,
   "metadata": {},
   "outputs": [],
   "source": [
    "#Dropping columns not necessary for data analysis\n",
    "df.drop(['Timestamp', 'comments', 'state', 'Country', 'phys_health_interview', 'phys_health_consequence'],\n",
    "        axis=1, inplace=True)\n",
    "\n",
    "\n",
    "#Dropping nan values and changing age column to intg.\n",
    "df.work_interfere.dropna(inplace=True)\n",
    "df.self_employed.dropna(inplace=True)\n",
    "df['Age'] = df['Age'].astype(int)\n"
   ]
  },
  {
   "cell_type": "code",
   "execution_count": 430,
   "metadata": {},
   "outputs": [],
   "source": [
    "# creating a uniform values for vairous unique gender values\n",
    "\n",
    "df['Gender'] = df['Gender'].replace({'f':'F'})\n",
    "df['Gender'] = df['Gender'].replace({'female':'F'})\n",
    "df['Gender'] = df['Gender'].replace({'Male':'M'})\n",
    "df['Gender'] = df['Gender'].replace({'male':'M'})\n",
    "df['Gender'] = df['Gender'].replace({'Female':'F'})\n",
    "df['Gender'] = df['Gender'].replace({'m':'M'})\n",
    "df['Gender'] = df['Gender'].replace({'Make':'M'})\n",
    "df['Gender'] = df['Gender'].replace({'Woman':'F'})\n",
    "df['Gender'] = df['Gender'].replace({'Man':'M'})\n",
    "df['Gender'] = df['Gender'].replace({'Femake':'F'})\n",
    "df['Gender'] = df['Gender'].replace({'Malr':'M'})\n",
    "df['Gender'] = df['Gender'].replace({'Mail':'M'})\n",
    "df['Gender'] = df['Gender'].replace({'femail':'F'})\n",
    "df['Gender'] = df['Gender'].replace({'Female ':'F'})\n",
    "df['Gender'] = df['Gender'].replace({'Female (trans)':'trans'})\n",
    "df['Gender'] = df['Gender'].replace({'Trans-female':'trans'})\n",
    "df['Gender'] = df['Gender'].replace({'Trans woman':'trans'})\n",
    "df['Gender'] = df['Gender'].replace({'Cis Male':'M'})\n",
    "df['Gender'] = df['Gender'].replace({'Cis Male':'M'})\n",
    "df['Gender'] = df['Gender'].replace({'cis-female/femme':'F'})\n",
    "df['Gender'] = df['Gender'].replace({'cis male':'M'})\n",
    "df['Gender'] = df['Gender'].replace({'Cis Man':'M'})\n",
    "df['Gender'] = df['Gender'].replace({'maile':'M'}) \n",
    "df['Gender'] = df['Gender'].replace({'Mal':'M'})\n",
    "df['Gender'] = df['Gender'].replace({'Cis Female':'F'})\n",
    "df['Gender'] = df['Gender'].replace({'woman':'F'})\n",
    "df['Gender'] = df['Gender'].replace({'Female (cis)':'F'})\n",
    "df['Gender'] = df['Gender'].replace({'Male ':'M'})\n",
    "df['Gender'] = df['Gender'].replace({'Male (CIS)':'M'})\n",
    "df['Gender'] = df['Gender'].replace({'msle':'M'})\n",
    "df['Gender'] = df['Gender'].replace({'queer/she/they':'queer'})\n",
    "df['Gender'] = df['Gender'].replace({'queer':'queer'})\n",
    "df['Gender'] = df['Gender'].replace({'Genderqueer':'queer'})\n",
    "df['Gender'] = df['Gender'].replace({'fluid':'queer'})\n",
    "df['Gender'] = df['Gender'].replace({'non-binary':'queer'})\n",
    "df['Gender'] = df['Gender'].replace({'Androgyne':'queer'})\n",
    "df['Gender'] = df['Gender'].replace({'male leaning androgynous':'queer'})\n",
    "df['Gender'] = df['Gender'].replace({'Agender':'queer'})\n",
    "df['Gender'] = df['Gender'].replace({'something kinda male?':'other'})\n",
    "df['Gender'] = df['Gender'].replace({'Nah':'other'})\n",
    "df['Gender'] = df['Gender'].replace({'Agender':'other'})\n",
    "df['Gender'] = df['Gender'].replace({'Neuter':'other'})\n",
    "df['Gender'] = df['Gender'].replace({'p':'other'})\n",
    "df['Gender'] = df['Gender'].replace({'Guy (-ish) ^_^':'other'})\n",
    "df['Gender'] = df['Gender'].replace({'Male-ish':'other'})\n",
    "df['Gender'] = df['Gender'].replace({'A little about you':'other'})\n",
    "df['Gender'] = df['Gender'].replace({'Enby':'other'})\n",
    "df['Gender'] = df['Gender'].replace({'All':'other'})\n",
    "df['Gender'] = df['Gender'].replace({'ostensibly male, unsure what that really means':'other'})"
   ]
  },
  {
   "cell_type": "code",
   "execution_count": 431,
   "metadata": {},
   "outputs": [],
   "source": [
    "df['work_interfere'] = df['work_interfere'].replace({'Sometimes': 'yes'})\n",
    "df['work_interfere'] = df['work_interfere'].replace({'Often': 'yes'})\n",
    "df['work_interfere'] = df['work_interfere'].replace({'Rarely': 'no'})\n",
    "df['work_interfere'] = df['work_interfere'].replace({'Never': 'no' })"
   ]
  },
  {
   "cell_type": "code",
   "execution_count": 432,
   "metadata": {},
   "outputs": [],
   "source": [
    "#consoldating two employee sizes\n",
    "\n",
    "df['no_employees'] = df['no_employees'].replace({'1-5':'1-25'})\n",
    "df['no_employees'] = df['no_employees'].replace({'6-25':'1-25'})"
   ]
  },
  {
   "cell_type": "code",
   "execution_count": 433,
   "metadata": {},
   "outputs": [],
   "source": [
    "df.self_employed.dropna(axis=0, inplace=True)\n",
    "#df.self_employed.isna().sum()"
   ]
  },
  {
   "cell_type": "code",
   "execution_count": 434,
   "metadata": {},
   "outputs": [],
   "source": [
    "#Dropping all null values in df\n",
    "df.dropna(inplace=True)"
   ]
  },
  {
   "cell_type": "code",
   "execution_count": null,
   "metadata": {},
   "outputs": [],
   "source": []
  },
  {
   "cell_type": "code",
   "execution_count": 435,
   "metadata": {},
   "outputs": [],
   "source": [
    "#Replacing unique(incorrectly entered age values with 1 in order to change it with the mean after)\n",
    "for age in df.Age.values:\n",
    "    if age <= 17 or age >= 80:\n",
    "        df.Age.replace(age, 1, inplace=True)\n",
    "        "
   ]
  },
  {
   "cell_type": "code",
   "execution_count": 436,
   "metadata": {},
   "outputs": [],
   "source": [
    "#changing ones with the column mean and rounding it in to two \n",
    "df['Age'] = df['Age'].replace({1:df.Age.mean()})\n",
    "df.Age = df.Age.round(2)"
   ]
  },
  {
   "cell_type": "code",
   "execution_count": 437,
   "metadata": {},
   "outputs": [
    {
     "data": {
      "image/png": "[encoded data removed]",
      "text/plain": [
       "<Figure size 504x432 with 1 Axes>"
      ]
     },
     "metadata": {
      "needs_background": "light"
     },
     "output_type": "display_data"
    }
   ],
   "source": [
    "#Age distribution plot\n",
    "y = df.Age\n",
    "plt.figure(figsize=(7, 6))\n",
    "sns.distplot(y, color='r')\n",
    "plt.title=('Age Distribution')\n",
    "plt.xlabel=('Age of Employees')\n"
   ]
  },
  {
   "cell_type": "code",
   "execution_count": null,
   "metadata": {},
   "outputs": [],
   "source": []
  },
  {
   "cell_type": "code",
   "execution_count": 438,
   "metadata": {},
   "outputs": [],
   "source": [
    "#Target and independent variables\n",
    "\n",
    "X = df.drop('work_interfere', axis=1)\n",
    "y = df['work_interfere']"
   ]
  },
  {
   "cell_type": "code",
   "execution_count": null,
   "metadata": {},
   "outputs": [],
   "source": []
  },
  {
   "cell_type": "code",
   "execution_count": 440,
   "metadata": {},
   "outputs": [
    {
     "data": {
      "image/png": "[encoded data removed]",
      "text/plain": [
       "<Figure size 432x288 with 1 Axes>"
      ]
     },
     "metadata": {},
     "output_type": "display_data"
    }
   ],
   "source": [
    "#plt.figure(figsize=(10,10))\n",
    "plt.pie(df.Gender.value_counts(), labels = ['Male', 'Female', 'Other', 'queer','Trans'],\n",
    ")\n",
    "\n",
    "plt.show()"
   ]
  },
  {
   "cell_type": "markdown",
   "metadata": {},
   "source": [
    "# One Hot Encoding"
   ]
  },
  {
   "cell_type": "code",
   "execution_count": 442,
   "metadata": {},
   "outputs": [],
   "source": [
    "cont = X.select_dtypes(exclude='object')\n",
    "\n",
    "cat = X.select_dtypes(include='object')"
   ]
  },
  {
   "cell_type": "code",
   "execution_count": 443,
   "metadata": {},
   "outputs": [],
   "source": [
    "ohe = OneHotEncoder(drop='first')"
   ]
  },
  {
   "cell_type": "code",
   "execution_count": 444,
   "metadata": {},
   "outputs": [],
   "source": [
    "train = ohe.fit_transform(cat).toarray()"
   ]
  },
  {
   "cell_type": "code",
   "execution_count": 446,
   "metadata": {},
   "outputs": [
    {
     "data": {
      "text/html": [
       "<div>\n",
       "<style scoped>\n",
       "    .dataframe tbody tr th:only-of-type {\n",
       "        vertical-align: middle;\n",
       "    }\n",
       "\n",
       "    .dataframe tbody tr th {\n",
       "        vertical-align: top;\n",
       "    }\n",
       "\n",
       "    .dataframe thead th {\n",
       "        text-align: right;\n",
       "    }\n",
       "</style>\n",
       "<table border=\"1\" class=\"dataframe\">\n",
       "  <thead>\n",
       "    <tr style=\"text-align: right;\">\n",
       "      <th></th>\n",
       "      <th>Gender_M</th>\n",
       "      <th>Gender_other</th>\n",
       "      <th>Gender_queer</th>\n",
       "      <th>Gender_trans</th>\n",
       "      <th>self_employed_Yes</th>\n",
       "      <th>family_history_Yes</th>\n",
       "      <th>treatment_Yes</th>\n",
       "      <th>no_employees_100-500</th>\n",
       "      <th>no_employees_26-100</th>\n",
       "      <th>no_employees_500-1000</th>\n",
       "      <th>...</th>\n",
       "      <th>mental_health_consequence_Yes</th>\n",
       "      <th>coworkers_Some of them</th>\n",
       "      <th>coworkers_Yes</th>\n",
       "      <th>supervisor_Some of them</th>\n",
       "      <th>supervisor_Yes</th>\n",
       "      <th>mental_health_interview_No</th>\n",
       "      <th>mental_health_interview_Yes</th>\n",
       "      <th>mental_vs_physical_No</th>\n",
       "      <th>mental_vs_physical_Yes</th>\n",
       "      <th>obs_consequence_Yes</th>\n",
       "    </tr>\n",
       "  </thead>\n",
       "  <tbody>\n",
       "    <tr>\n",
       "      <th>0</th>\n",
       "      <td>1.0</td>\n",
       "      <td>0.0</td>\n",
       "      <td>0.0</td>\n",
       "      <td>0.0</td>\n",
       "      <td>1.0</td>\n",
       "      <td>1.0</td>\n",
       "      <td>0.0</td>\n",
       "      <td>0.0</td>\n",
       "      <td>0.0</td>\n",
       "      <td>0.0</td>\n",
       "      <td>...</td>\n",
       "      <td>0.0</td>\n",
       "      <td>0.0</td>\n",
       "      <td>1.0</td>\n",
       "      <td>0.0</td>\n",
       "      <td>1.0</td>\n",
       "      <td>1.0</td>\n",
       "      <td>0.0</td>\n",
       "      <td>0.0</td>\n",
       "      <td>1.0</td>\n",
       "      <td>1.0</td>\n",
       "    </tr>\n",
       "    <tr>\n",
       "      <th>1</th>\n",
       "      <td>1.0</td>\n",
       "      <td>0.0</td>\n",
       "      <td>0.0</td>\n",
       "      <td>0.0</td>\n",
       "      <td>0.0</td>\n",
       "      <td>1.0</td>\n",
       "      <td>1.0</td>\n",
       "      <td>1.0</td>\n",
       "      <td>0.0</td>\n",
       "      <td>0.0</td>\n",
       "      <td>...</td>\n",
       "      <td>0.0</td>\n",
       "      <td>1.0</td>\n",
       "      <td>0.0</td>\n",
       "      <td>1.0</td>\n",
       "      <td>0.0</td>\n",
       "      <td>1.0</td>\n",
       "      <td>0.0</td>\n",
       "      <td>1.0</td>\n",
       "      <td>0.0</td>\n",
       "      <td>0.0</td>\n",
       "    </tr>\n",
       "  </tbody>\n",
       "</table>\n",
       "<p>2 rows × 38 columns</p>\n",
       "</div>"
      ],
      "text/plain": [
       "   Gender_M  Gender_other  Gender_queer  Gender_trans  self_employed_Yes  \\\n",
       "0       1.0           0.0           0.0           0.0                1.0   \n",
       "1       1.0           0.0           0.0           0.0                0.0   \n",
       "\n",
       "   family_history_Yes  treatment_Yes  no_employees_100-500  \\\n",
       "0                 1.0            0.0                   0.0   \n",
       "1                 1.0            1.0                   1.0   \n",
       "\n",
       "   no_employees_26-100  no_employees_500-1000  ...  \\\n",
       "0                  0.0                    0.0  ...   \n",
       "1                  0.0                    0.0  ...   \n",
       "\n",
       "   mental_health_consequence_Yes  coworkers_Some of them  coworkers_Yes  \\\n",
       "0                            0.0                     0.0            1.0   \n",
       "1                            0.0                     1.0            0.0   \n",
       "\n",
       "   supervisor_Some of them  supervisor_Yes  mental_health_interview_No  \\\n",
       "0                      0.0             1.0                         1.0   \n",
       "1                      1.0             0.0                         1.0   \n",
       "\n",
       "   mental_health_interview_Yes  mental_vs_physical_No  mental_vs_physical_Yes  \\\n",
       "0                          0.0                    0.0                     1.0   \n",
       "1                          0.0                    1.0                     0.0   \n",
       "\n",
       "   obs_consequence_Yes  \n",
       "0                  1.0  \n",
       "1                  0.0  \n",
       "\n",
       "[2 rows x 38 columns]"
      ]
     },
     "execution_count": 446,
     "metadata": {},
     "output_type": "execute_result"
    }
   ],
   "source": [
    "train_df= pd.DataFrame(train, columns=ohe.get_feature_names(cat.columns))\n",
    "train_df.head(2)"
   ]
  },
  {
   "cell_type": "code",
   "execution_count": 448,
   "metadata": {},
   "outputs": [],
   "source": [
    "train_df.reset_index(inplace=True, drop='first')"
   ]
  },
  {
   "cell_type": "code",
   "execution_count": 449,
   "metadata": {},
   "outputs": [],
   "source": [
    "cont.reset_index(inplace=True, drop='first')"
   ]
  },
  {
   "cell_type": "code",
   "execution_count": 450,
   "metadata": {},
   "outputs": [],
   "source": [
    "X = train_df.join(cont)"
   ]
  },
  {
   "cell_type": "markdown",
   "metadata": {},
   "source": [
    "# Creating training and test sets"
   ]
  },
  {
   "cell_type": "code",
   "execution_count": 451,
   "metadata": {},
   "outputs": [],
   "source": [
    "X_train, X_test, y_train, y_test = train_test_split(X, y, random_state=1000, test_size=0.2)"
   ]
  },
  {
   "cell_type": "markdown",
   "metadata": {},
   "source": [
    "# SMOTE"
   ]
  },
  {
   "cell_type": "markdown",
   "metadata": {},
   "source": [
    "SMOTE or Synthetic Minority Oversampling Technique. SMOTE uses a nearest neighbors algorithm to generate new and synthetic data we can use for training our model."
   ]
  },
  {
   "cell_type": "code",
   "execution_count": 453,
   "metadata": {},
   "outputs": [
    {
     "data": {
      "text/plain": [
       "yes    478\n",
       "no     478\n",
       "Name: work_interfere, dtype: int64"
      ]
     },
     "execution_count": 453,
     "metadata": {},
     "output_type": "execute_result"
    }
   ],
   "source": [
    "\n",
    "from imblearn.over_sampling import SMOTE\n",
    "\n",
    "sm = SMOTE(random_state=28)\n",
    "X_sampled, y_sampled = sm.fit_sample(X_train, y_train)\n",
    "y_sampled.value_counts()"
   ]
  },
  {
   "cell_type": "markdown",
   "metadata": {},
   "source": [
    "# Random Forest"
   ]
  },
  {
   "cell_type": "code",
   "execution_count": 454,
   "metadata": {},
   "outputs": [],
   "source": [
    "from sklearn.ensemble import BaggingClassifier, RandomForestClassifier\n",
    "forest = RandomForestClassifier(n_estimators=100, random_state=28, max_depth=5)\n",
    "\n",
    "forest_model= forest.fit(X_sampled, y_sampled)"
   ]
  },
  {
   "cell_type": "code",
   "execution_count": 455,
   "metadata": {},
   "outputs": [
    {
     "data": {
      "text/plain": [
       "0.8043933054393305"
      ]
     },
     "execution_count": 455,
     "metadata": {},
     "output_type": "execute_result"
    }
   ],
   "source": [
    "forest_model.score(X_sampled, y_sampled)"
   ]
  },
  {
   "cell_type": "code",
   "execution_count": null,
   "metadata": {},
   "outputs": [],
   "source": []
  },
  {
   "cell_type": "code",
   "execution_count": 456,
   "metadata": {},
   "outputs": [],
   "source": [
    "df_features = pd.DataFrame(X_sampled.columns)\n",
    "df_features['feature_importances'] = forest_model.feature_importances_\n",
    "df_features.columns = ['features', 'feature_importances']\n",
    "\n",
    "df_features = df_features.sort_values(by='feature_importances', ascending=False)\n",
    "\n",
    "df_features.sort_values('features')\n",
    "df_features.reset_index(drop='first', inplace=True)"
   ]
  },
  {
   "cell_type": "markdown",
   "metadata": {},
   "source": [
    "# Confusion Matrix"
   ]
  },
  {
   "cell_type": "code",
   "execution_count": 457,
   "metadata": {},
   "outputs": [
    {
     "name": "stdout",
     "output_type": "stream",
     "text": [
      "[[ 38  36]\n",
      " [ 22 100]]\n",
      "              precision    recall  f1-score   support\n",
      "\n",
      "          no       0.63      0.51      0.57        74\n",
      "         yes       0.74      0.82      0.78       122\n",
      "\n",
      "    accuracy                           0.70       196\n",
      "   macro avg       0.68      0.67      0.67       196\n",
      "weighted avg       0.70      0.70      0.70       196\n",
      "\n"
     ]
    }
   ],
   "source": [
    "pred = forest_model.predict(X_test)\n",
    "\n",
    "#Confusion matrix and classification report\n",
    "\n",
    "print(confusion_matrix(y_test, pred))\n",
    "print(classification_report(y_test, pred))"
   ]
  },
  {
   "cell_type": "code",
   "execution_count": null,
   "metadata": {},
   "outputs": [],
   "source": []
  },
  {
   "cell_type": "code",
   "execution_count": 371,
   "metadata": {},
   "outputs": [],
   "source": [
    "forest_conf = confusion_matrix(y_test, pred)"
   ]
  },
  {
   "cell_type": "code",
   "execution_count": 372,
   "metadata": {},
   "outputs": [
    {
     "data": {
      "text/plain": [
       "array(['no', 'yes'], dtype=object)"
      ]
     },
     "execution_count": 372,
     "metadata": {},
     "output_type": "execute_result"
    }
   ],
   "source": [
    "classes"
   ]
  },
  {
   "cell_type": "code",
   "execution_count": 373,
   "metadata": {},
   "outputs": [
    {
     "ename": "TypeError",
     "evalue": "'str' object is not callable",
     "output_type": "error",
     "traceback": [
      "\u001b[0;31m---------------------------------------------------------------------------\u001b[0m",
      "\u001b[0;31mTypeError\u001b[0m                                 Traceback (most recent call last)",
      "\u001b[0;32m<ipython-input-373-cb4608f735f4>\u001b[0m in \u001b[0;36m<module>\u001b[0;34m\u001b[0m\n\u001b[0;32m----> 1\u001b[0;31m \u001b[0mprint_confusion_matrix\u001b[0m\u001b[0;34m(\u001b[0m\u001b[0mforest_conf\u001b[0m\u001b[0;34m,\u001b[0m \u001b[0mclasses\u001b[0m\u001b[0;34m,\u001b[0m \u001b[0mfigsize\u001b[0m \u001b[0;34m=\u001b[0m\u001b[0;34m(\u001b[0m\u001b[0;36m10\u001b[0m\u001b[0;34m,\u001b[0m\u001b[0;36m7\u001b[0m\u001b[0;34m)\u001b[0m\u001b[0;34m,\u001b[0m \u001b[0mfontsize\u001b[0m\u001b[0;34m=\u001b[0m\u001b[0;36m14\u001b[0m\u001b[0;34m)\u001b[0m\u001b[0;34m\u001b[0m\u001b[0m\n\u001b[0m",
      "\u001b[0;32m<ipython-input-356-131a3f955e06>\u001b[0m in \u001b[0;36mprint_confusion_matrix\u001b[0;34m(confusion_matrix, class_names, figsize, fontsize)\u001b[0m\n\u001b[1;32m     11\u001b[0m \u001b[0;34m\u001b[0m\u001b[0m\n\u001b[1;32m     12\u001b[0m     \u001b[0mplt\u001b[0m\u001b[0;34m.\u001b[0m\u001b[0mylabel\u001b[0m\u001b[0;34m(\u001b[0m\u001b[0;34m'True label'\u001b[0m\u001b[0;34m)\u001b[0m\u001b[0;34m\u001b[0m\u001b[0m\n\u001b[0;32m---> 13\u001b[0;31m     \u001b[0mplt\u001b[0m\u001b[0;34m.\u001b[0m\u001b[0mxlabel\u001b[0m\u001b[0;34m(\u001b[0m\u001b[0;34m'Predicted label'\u001b[0m\u001b[0;34m)\u001b[0m\u001b[0;34m\u001b[0m\u001b[0m\n\u001b[0m\u001b[1;32m     14\u001b[0m     \u001b[0;32mreturn\u001b[0m \u001b[0mfig\u001b[0m\u001b[0;34m\u001b[0m\u001b[0m\n",
      "\u001b[0;31mTypeError\u001b[0m: 'str' object is not callable"
     ]
    },
    {
     "data": {
      "image/png": "[encoded data removed]",
      "text/plain": [
       "<Figure size 720x504 with 2 Axes>"
      ]
     },
     "metadata": {
      "needs_background": "light"
     },
     "output_type": "display_data"
    }
   ],
   "source": [
    "print_confusion_matrix(forest_conf, classes, figsize =(10,7), fontsize=14)"
   ]
  },
  {
   "cell_type": "code",
   "execution_count": null,
   "metadata": {},
   "outputs": [],
   "source": [
    "# TP FP\n",
    "# FP. TN"
   ]
  },
  {
   "cell_type": "code",
   "execution_count": 264,
   "metadata": {},
   "outputs": [
    {
     "data": {
      "text/plain": [
       "<matplotlib.axes._subplots.AxesSubplot at 0x1a288a99b0>"
      ]
     },
     "execution_count": 264,
     "metadata": {},
     "output_type": "execute_result"
    },
    {
     "data": {
      "image/png": "[encoded data removed]",
      "text/plain": [
       "<Figure size 864x720 with 1 Axes>"
      ]
     },
     "metadata": {
      "needs_background": "light"
     },
     "output_type": "display_data"
    }
   ],
   "source": [
    "m = df_features.features\n",
    "b = df_features.feature_importances\n",
    "plt.figure(figsize=(12, 10))\n",
    "sns.barplot(b, m)"
   ]
  },
  {
   "cell_type": "markdown",
   "metadata": {},
   "source": [
    "# Tree classifier "
   ]
  },
  {
   "cell_type": "code",
   "execution_count": 458,
   "metadata": {},
   "outputs": [],
   "source": [
    "tree_clf = DecisionTreeClassifier(criterion='gini', max_depth=5) \n",
    "tree_model = tree_clf.fit(X_sampled, y_sampled)"
   ]
  },
  {
   "cell_type": "code",
   "execution_count": 459,
   "metadata": {},
   "outputs": [],
   "source": [
    "classes = tree_model.classes_"
   ]
  },
  {
   "cell_type": "code",
   "execution_count": 460,
   "metadata": {},
   "outputs": [
    {
     "data": {
      "text/plain": [
       "0.803347280334728"
      ]
     },
     "execution_count": 460,
     "metadata": {},
     "output_type": "execute_result"
    }
   ],
   "source": [
    "tree_model.score(X_sampled, y_sampled)"
   ]
  },
  {
   "cell_type": "code",
   "execution_count": 461,
   "metadata": {},
   "outputs": [],
   "source": [
    "y_hat_test = tree_model.predict(X_test)\n"
   ]
  },
  {
   "cell_type": "code",
   "execution_count": 462,
   "metadata": {},
   "outputs": [
    {
     "name": "stdout",
     "output_type": "stream",
     "text": [
      "Confusion Matrix:\n",
      " [[44 30]\n",
      " [31 91]]\n"
     ]
    }
   ],
   "source": [
    "from sklearn.metrics import confusion_matrix\n",
    "\n",
    "# Print confusion matrix\n",
    "cnf_matrix = confusion_matrix(y_test, y_hat_test)\n",
    "print('Confusion Matrix:\\n', cnf_matrix)"
   ]
  },
  {
   "cell_type": "code",
   "execution_count": 463,
   "metadata": {},
   "outputs": [
    {
     "data": {
      "text/plain": [
       "array([[44, 30],\n",
       "       [31, 91]])"
      ]
     },
     "execution_count": 463,
     "metadata": {},
     "output_type": "execute_result"
    }
   ],
   "source": [
    "cnf_matrix"
   ]
  },
  {
   "cell_type": "code",
   "execution_count": 464,
   "metadata": {},
   "outputs": [],
   "source": [
    "def print_confusion_matrix(confusion_matrix, class_names, figsize = (10,7), fontsize=14):\n",
    "    \n",
    "    df_cm = pd.DataFrame(confusion_matrix, index=class_names, columns=class_names)\n",
    "    fig = plt.figure(figsize=figsize)\n",
    "    try:\n",
    "        heatmap = sns.heatmap(df_cm, annot=True, fmt=\"d\")\n",
    "    except ValueError:\n",
    "        raise ValueError(\"Confusion matrix values must be integers.\")\n",
    "    heatmap.yaxis.set_ticklabels(heatmap.yaxis.get_ticklabels(), rotation=0, ha='right', fontsize=fontsize)\n",
    "    heatmap.xaxis.set_ticklabels(heatmap.xaxis.get_ticklabels(), rotation=45, ha='right', fontsize=fontsize)\n",
    "    \n",
    "    plt.ylabel('True label')\n",
    "    plt.xlabel('Predicted label')\n",
    "    return fig"
   ]
  },
  {
   "cell_type": "code",
   "execution_count": 465,
   "metadata": {},
   "outputs": [
    {
     "data": {
      "text/plain": [
       "array(['no', 'yes'], dtype=object)"
      ]
     },
     "execution_count": 465,
     "metadata": {},
     "output_type": "execute_result"
    }
   ],
   "source": [
    "classes"
   ]
  },
  {
   "cell_type": "code",
   "execution_count": 466,
   "metadata": {},
   "outputs": [
    {
     "ename": "TypeError",
     "evalue": "'str' object is not callable",
     "output_type": "error",
     "traceback": [
      "\u001b[0;31m---------------------------------------------------------------------------\u001b[0m",
      "\u001b[0;31mTypeError\u001b[0m                                 Traceback (most recent call last)",
      "\u001b[0;32m<ipython-input-466-a23c1cf4feda>\u001b[0m in \u001b[0;36m<module>\u001b[0;34m\u001b[0m\n\u001b[0;32m----> 1\u001b[0;31m \u001b[0mprint_confusion_matrix\u001b[0m\u001b[0;34m(\u001b[0m\u001b[0mcnf_matrix\u001b[0m\u001b[0;34m,\u001b[0m \u001b[0mclass_names\u001b[0m\u001b[0;34m,\u001b[0m \u001b[0mfigsize\u001b[0m \u001b[0;34m=\u001b[0m\u001b[0;34m(\u001b[0m\u001b[0;36m10\u001b[0m\u001b[0;34m,\u001b[0m\u001b[0;36m7\u001b[0m\u001b[0;34m)\u001b[0m\u001b[0;34m,\u001b[0m \u001b[0mfontsize\u001b[0m\u001b[0;34m=\u001b[0m\u001b[0;36m14\u001b[0m\u001b[0;34m)\u001b[0m\u001b[0;34m\u001b[0m\u001b[0m\n\u001b[0m",
      "\u001b[0;32m<ipython-input-464-131a3f955e06>\u001b[0m in \u001b[0;36mprint_confusion_matrix\u001b[0;34m(confusion_matrix, class_names, figsize, fontsize)\u001b[0m\n\u001b[1;32m     11\u001b[0m \u001b[0;34m\u001b[0m\u001b[0m\n\u001b[1;32m     12\u001b[0m     \u001b[0mplt\u001b[0m\u001b[0;34m.\u001b[0m\u001b[0mylabel\u001b[0m\u001b[0;34m(\u001b[0m\u001b[0;34m'True label'\u001b[0m\u001b[0;34m)\u001b[0m\u001b[0;34m\u001b[0m\u001b[0m\n\u001b[0;32m---> 13\u001b[0;31m     \u001b[0mplt\u001b[0m\u001b[0;34m.\u001b[0m\u001b[0mxlabel\u001b[0m\u001b[0;34m(\u001b[0m\u001b[0;34m'Predicted label'\u001b[0m\u001b[0;34m)\u001b[0m\u001b[0;34m\u001b[0m\u001b[0m\n\u001b[0m\u001b[1;32m     14\u001b[0m     \u001b[0;32mreturn\u001b[0m \u001b[0mfig\u001b[0m\u001b[0;34m\u001b[0m\u001b[0m\n",
      "\u001b[0;31mTypeError\u001b[0m: 'str' object is not callable"
     ]
    },
    {
     "data": {
      "image/png": "[encoded data removed]",
      "text/plain": [
       "<Figure size 720x504 with 2 Axes>"
      ]
     },
     "metadata": {
      "needs_background": "light"
     },
     "output_type": "display_data"
    }
   ],
   "source": [
    "print_confusion_matrix(cnf_matrix, class_names, figsize =(10,7), fontsize=14)"
   ]
  },
  {
   "cell_type": "code",
   "execution_count": 224,
   "metadata": {},
   "outputs": [
    {
     "name": "stdout",
     "output_type": "stream",
     "text": [
      "[[44 30]\n",
      " [31 91]]\n",
      "              precision    recall  f1-score   support\n",
      "\n",
      "          no       0.59      0.59      0.59        74\n",
      "         yes       0.75      0.75      0.75       122\n",
      "\n",
      "    accuracy                           0.69       196\n",
      "   macro avg       0.67      0.67      0.67       196\n",
      "weighted avg       0.69      0.69      0.69       196\n",
      "\n"
     ]
    }
   ],
   "source": [
    "pred = tree_model.predict(X_test)\n",
    "\n",
    "#Confusion matrix and classification report\n",
    "print(confusion_matrix(y_test, pred))\n",
    "print(classification_report(y_test, pred))"
   ]
  },
  {
   "cell_type": "code",
   "execution_count": null,
   "metadata": {},
   "outputs": [],
   "source": []
  },
  {
   "cell_type": "markdown",
   "metadata": {},
   "source": [
    "# Logistic Regression "
   ]
  },
  {
   "cell_type": "code",
   "execution_count": 371,
   "metadata": {},
   "outputs": [],
   "source": [
    "from sklearn.linear_model import LogisticRegression\n",
    "\n",
    "logreg = LogisticRegression(C=1e12, solver='liblinear', random_state=28)\n",
    "\n",
    "log_model = logreg.fit(X_sampled, y_sampled)"
   ]
  },
  {
   "cell_type": "code",
   "execution_count": 372,
   "metadata": {},
   "outputs": [
    {
     "data": {
      "text/plain": [
       "0.5761772853185596"
      ]
     },
     "execution_count": 372,
     "metadata": {},
     "output_type": "execute_result"
    }
   ],
   "source": [
    "log_model.score(X_sampled, y_sampled)"
   ]
  },
  {
   "cell_type": "code",
   "execution_count": null,
   "metadata": {},
   "outputs": [],
   "source": []
  },
  {
   "cell_type": "code",
   "execution_count": 373,
   "metadata": {},
   "outputs": [],
   "source": [
    "df_coef = pd.DataFrame(model.coef_, index=model.classes_)"
   ]
  },
  {
   "cell_type": "code",
   "execution_count": null,
   "metadata": {},
   "outputs": [],
   "source": []
  },
  {
   "cell_type": "code",
   "execution_count": 423,
   "metadata": {},
   "outputs": [
    {
     "data": {
      "text/html": [
       "<div>\n",
       "<style scoped>\n",
       "    .dataframe tbody tr th:only-of-type {\n",
       "        vertical-align: middle;\n",
       "    }\n",
       "\n",
       "    .dataframe tbody tr th {\n",
       "        vertical-align: top;\n",
       "    }\n",
       "\n",
       "    .dataframe thead th {\n",
       "        text-align: right;\n",
       "    }\n",
       "</style>\n",
       "<table border=\"1\" class=\"dataframe\">\n",
       "  <thead>\n",
       "    <tr style=\"text-align: right;\">\n",
       "      <th></th>\n",
       "      <th>Gender_M</th>\n",
       "      <th>Gender_other</th>\n",
       "      <th>Gender_queer</th>\n",
       "      <th>Gender_trans</th>\n",
       "      <th>self_employed_Yes</th>\n",
       "      <th>family_history_Yes</th>\n",
       "      <th>treatment_Yes</th>\n",
       "      <th>no_employees_100-500</th>\n",
       "      <th>no_employees_26-100</th>\n",
       "      <th>no_employees_500-1000</th>\n",
       "      <th>...</th>\n",
       "      <th>coworkers_Some of them</th>\n",
       "      <th>coworkers_Yes</th>\n",
       "      <th>supervisor_Some of them</th>\n",
       "      <th>supervisor_Yes</th>\n",
       "      <th>mental_health_interview_No</th>\n",
       "      <th>mental_health_interview_Yes</th>\n",
       "      <th>mental_vs_physical_No</th>\n",
       "      <th>mental_vs_physical_Yes</th>\n",
       "      <th>obs_consequence_Yes</th>\n",
       "      <th>Age</th>\n",
       "    </tr>\n",
       "  </thead>\n",
       "  <tbody>\n",
       "    <tr>\n",
       "      <th>Never</th>\n",
       "      <td>0.455329</td>\n",
       "      <td>-1.500627</td>\n",
       "      <td>0.956426</td>\n",
       "      <td>-0.846008</td>\n",
       "      <td>0.147103</td>\n",
       "      <td>-0.992507</td>\n",
       "      <td>-3.021669</td>\n",
       "      <td>1.024926</td>\n",
       "      <td>0.819992</td>\n",
       "      <td>1.639639</td>\n",
       "      <td>...</td>\n",
       "      <td>-0.473699</td>\n",
       "      <td>-0.509100</td>\n",
       "      <td>0.149379</td>\n",
       "      <td>0.382492</td>\n",
       "      <td>-0.134126</td>\n",
       "      <td>0.563666</td>\n",
       "      <td>-0.012133</td>\n",
       "      <td>0.004381</td>\n",
       "      <td>-0.285344</td>\n",
       "      <td>0.027821</td>\n",
       "    </tr>\n",
       "    <tr>\n",
       "      <th>Often</th>\n",
       "      <td>-0.125303</td>\n",
       "      <td>-0.346879</td>\n",
       "      <td>-3.947932</td>\n",
       "      <td>1.883901</td>\n",
       "      <td>0.517752</td>\n",
       "      <td>0.064311</td>\n",
       "      <td>1.294394</td>\n",
       "      <td>-0.627894</td>\n",
       "      <td>-0.320979</td>\n",
       "      <td>-6.086228</td>\n",
       "      <td>...</td>\n",
       "      <td>-0.511324</td>\n",
       "      <td>0.045549</td>\n",
       "      <td>0.446681</td>\n",
       "      <td>0.656613</td>\n",
       "      <td>-0.501768</td>\n",
       "      <td>-0.351309</td>\n",
       "      <td>-0.102035</td>\n",
       "      <td>-0.064158</td>\n",
       "      <td>0.254293</td>\n",
       "      <td>-0.024232</td>\n",
       "    </tr>\n",
       "    <tr>\n",
       "      <th>Rarely</th>\n",
       "      <td>-0.199666</td>\n",
       "      <td>-0.169036</td>\n",
       "      <td>0.423414</td>\n",
       "      <td>-2.609111</td>\n",
       "      <td>-0.722708</td>\n",
       "      <td>-0.001094</td>\n",
       "      <td>0.276074</td>\n",
       "      <td>-0.149602</td>\n",
       "      <td>-0.711187</td>\n",
       "      <td>0.009033</td>\n",
       "      <td>...</td>\n",
       "      <td>-0.037605</td>\n",
       "      <td>0.228690</td>\n",
       "      <td>-0.600702</td>\n",
       "      <td>-0.540183</td>\n",
       "      <td>0.202117</td>\n",
       "      <td>0.114090</td>\n",
       "      <td>-0.185739</td>\n",
       "      <td>-0.406631</td>\n",
       "      <td>-0.151559</td>\n",
       "      <td>0.002011</td>\n",
       "    </tr>\n",
       "    <tr>\n",
       "      <th>Sometimes</th>\n",
       "      <td>-0.024751</td>\n",
       "      <td>0.013440</td>\n",
       "      <td>0.283770</td>\n",
       "      <td>-1.380331</td>\n",
       "      <td>-0.054772</td>\n",
       "      <td>0.363561</td>\n",
       "      <td>1.059379</td>\n",
       "      <td>-0.034666</td>\n",
       "      <td>0.196162</td>\n",
       "      <td>-0.148271</td>\n",
       "      <td>...</td>\n",
       "      <td>0.404584</td>\n",
       "      <td>0.011310</td>\n",
       "      <td>0.060823</td>\n",
       "      <td>-0.199511</td>\n",
       "      <td>0.305544</td>\n",
       "      <td>-0.005163</td>\n",
       "      <td>0.134877</td>\n",
       "      <td>0.298344</td>\n",
       "      <td>-0.050341</td>\n",
       "      <td>-0.000370</td>\n",
       "    </tr>\n",
       "  </tbody>\n",
       "</table>\n",
       "<p>4 rows × 39 columns</p>\n",
       "</div>"
      ],
      "text/plain": [
       "           Gender_M  Gender_other  Gender_queer  Gender_trans  \\\n",
       "Never      0.455329     -1.500627      0.956426     -0.846008   \n",
       "Often     -0.125303     -0.346879     -3.947932      1.883901   \n",
       "Rarely    -0.199666     -0.169036      0.423414     -2.609111   \n",
       "Sometimes -0.024751      0.013440      0.283770     -1.380331   \n",
       "\n",
       "           self_employed_Yes  family_history_Yes  treatment_Yes  \\\n",
       "Never               0.147103           -0.992507      -3.021669   \n",
       "Often               0.517752            0.064311       1.294394   \n",
       "Rarely             -0.722708           -0.001094       0.276074   \n",
       "Sometimes          -0.054772            0.363561       1.059379   \n",
       "\n",
       "           no_employees_100-500  no_employees_26-100  no_employees_500-1000  \\\n",
       "Never                  1.024926             0.819992               1.639639   \n",
       "Often                 -0.627894            -0.320979              -6.086228   \n",
       "Rarely                -0.149602            -0.711187               0.009033   \n",
       "Sometimes             -0.034666             0.196162              -0.148271   \n",
       "\n",
       "           ...  coworkers_Some of them  coworkers_Yes  \\\n",
       "Never      ...               -0.473699      -0.509100   \n",
       "Often      ...               -0.511324       0.045549   \n",
       "Rarely     ...               -0.037605       0.228690   \n",
       "Sometimes  ...                0.404584       0.011310   \n",
       "\n",
       "           supervisor_Some of them  supervisor_Yes  \\\n",
       "Never                     0.149379        0.382492   \n",
       "Often                     0.446681        0.656613   \n",
       "Rarely                   -0.600702       -0.540183   \n",
       "Sometimes                 0.060823       -0.199511   \n",
       "\n",
       "           mental_health_interview_No  mental_health_interview_Yes  \\\n",
       "Never                       -0.134126                     0.563666   \n",
       "Often                       -0.501768                    -0.351309   \n",
       "Rarely                       0.202117                     0.114090   \n",
       "Sometimes                    0.305544                    -0.005163   \n",
       "\n",
       "           mental_vs_physical_No  mental_vs_physical_Yes  obs_consequence_Yes  \\\n",
       "Never                  -0.012133                0.004381            -0.285344   \n",
       "Often                  -0.102035               -0.064158             0.254293   \n",
       "Rarely                 -0.185739               -0.406631            -0.151559   \n",
       "Sometimes               0.134877                0.298344            -0.050341   \n",
       "\n",
       "                Age  \n",
       "Never      0.027821  \n",
       "Often     -0.024232  \n",
       "Rarely     0.002011  \n",
       "Sometimes -0.000370  \n",
       "\n",
       "[4 rows x 39 columns]"
      ]
     },
     "execution_count": 423,
     "metadata": {},
     "output_type": "execute_result"
    }
   ],
   "source": [
    "df_coef.columns = X_sampled.columns\n",
    "df_coef"
   ]
  },
  {
   "cell_type": "code",
   "execution_count": 459,
   "metadata": {},
   "outputs": [],
   "source": [
    "#sns.barplot(df_coef.index, df_coef.columns)"
   ]
  },
  {
   "cell_type": "markdown",
   "metadata": {},
   "source": [
    "# PCA"
   ]
  },
  {
   "cell_type": "code",
   "execution_count": 375,
   "metadata": {},
   "outputs": [],
   "source": [
    "from sklearn.decomposition import PCA\n",
    "pca = PCA()\n",
    "p_df = pca.fit(X_sampled)"
   ]
  },
  {
   "cell_type": "code",
   "execution_count": 376,
   "metadata": {},
   "outputs": [
    {
     "data": {
      "image/png": "[encoded data removed]",
      "text/plain": [
       "<Figure size 504x360 with 1 Axes>"
      ]
     },
     "metadata": {
      "needs_background": "light"
     },
     "output_type": "display_data"
    }
   ],
   "source": [
    "plt.figure(figsize=(7,5))\n",
    "plt.plot(np.cumsum(p_df.explained_variance_ratio_))\n",
    "plt.xticks(range(24))\n",
    "plt.show()"
   ]
  },
  {
   "cell_type": "markdown",
   "metadata": {},
   "source": []
  },
  {
   "cell_type": "code",
   "execution_count": 391,
   "metadata": {},
   "outputs": [],
   "source": [
    "from sklearn.ensemble import AdaBoostClassifier\n",
    "abc = AdaBoostClassifier(n_estimators=50)"
   ]
  },
  {
   "cell_type": "code",
   "execution_count": 393,
   "metadata": {},
   "outputs": [],
   "source": [
    "boost_model = abc.fit(X_sampled, y_sampled)"
   ]
  },
  {
   "cell_type": "code",
   "execution_count": 394,
   "metadata": {},
   "outputs": [
    {
     "data": {
      "text/plain": [
       "0.6018005540166205"
      ]
     },
     "execution_count": 394,
     "metadata": {},
     "output_type": "execute_result"
    }
   ],
   "source": [
    "boost_model.score(X_sampled, y_sampled)"
   ]
  },
  {
   "cell_type": "code",
   "execution_count": null,
   "metadata": {},
   "outputs": [],
   "source": []
  },
  {
   "cell_type": "code",
   "execution_count": 398,
   "metadata": {},
   "outputs": [],
   "source": [
    "boost_features = boost_model.feature_importances_\n",
    "boost_columns = X_sampled.columns"
   ]
  },
  {
   "cell_type": "code",
   "execution_count": 406,
   "metadata": {},
   "outputs": [],
   "source": [
    "a = pd.DataFrame(boost_features)\n"
   ]
  },
  {
   "cell_type": "code",
   "execution_count": null,
   "metadata": {},
   "outputs": [],
   "source": []
  },
  {
   "cell_type": "code",
   "execution_count": 414,
   "metadata": {},
   "outputs": [
    {
     "data": {
      "text/plain": [
       "<matplotlib.axes._subplots.AxesSubplot at 0x1a2b72dac8>"
      ]
     },
     "execution_count": 414,
     "metadata": {},
     "output_type": "execute_result"
    },
    {
     "data": {
      "image/png": "[encoded data removed]",
      "text/plain": [
       "<Figure size 864x720 with 1 Axes>"
      ]
     },
     "metadata": {
      "needs_background": "light"
     },
     "output_type": "display_data"
    }
   ],
   "source": [
    "plt.figure(figsize=(12, 10))\n",
    "sns.barplot(boost_features, boost_columns)"
   ]
  },
  {
   "cell_type": "code",
   "execution_count": null,
   "metadata": {},
   "outputs": [],
   "source": []
  }
 ],
 "metadata": {
  "kernelspec": {
   "display_name": "Python 3",
   "language": "python",
   "name": "python3"
  },
  "language_info": {
   "codemirror_mode": {
    "name": "ipython",
    "version": 3
   },
   "file_extension": ".py",
   "mimetype": "text/x-python",
   "name": "python",
   "nbconvert_exporter": "python",
   "pygments_lexer": "ipython3",
   "version": "3.7.0"
  }
 },
 "nbformat": 4,
 "nbformat_minor": 4
}
